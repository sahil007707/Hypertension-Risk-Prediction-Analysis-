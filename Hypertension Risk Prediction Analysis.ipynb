{
 "cells": [
  {
   "cell_type": "code",
   "execution_count": 21,
   "id": "fd0cf5b8",
   "metadata": {},
   "outputs": [],
   "source": [
    "import pandas as pd\n",
    "import seaborn as sns\n",
    "import numpy as np\n",
    "import plotly.express as px\n",
    "import matplotlib.pyplot as plt\n",
    "import warnings\n",
    "warnings.filterwarnings(\"ignore\")\n",
    "from sklearn.model_selection import train_test_split\n",
    "from sklearn.preprocessing import LabelEncoder,StandardScaler\n",
    "from sklearn.metrics import accuracy_score,classification_report,r2_score,mean_absolute_error,mean_squared_error,root_mean_squared_error\n",
    "from sklearn.linear_model import LogisticRegression"
   ]
  },
  {
   "cell_type": "markdown",
   "id": "4419751b",
   "metadata": {},
   "source": [
    "# Project \n",
    "## Hypertension Risk Prediction Analysis "
   ]
  },
  {
   "cell_type": "code",
   "execution_count": 3,
   "id": "4682b73a",
   "metadata": {},
   "outputs": [],
   "source": [
    "df=pd.read_csv(r\"c:\\Users\\user\\Desktop\\Kaggle Datasets\\hypertension_dataset.csv\")"
   ]
  },
  {
   "cell_type": "markdown",
   "id": "83a24a08",
   "metadata": {},
   "source": [
    "# Data Info"
   ]
  },
  {
   "cell_type": "code",
   "execution_count": 4,
   "id": "8f2c00f7",
   "metadata": {},
   "outputs": [
    {
     "name": "stdout",
     "output_type": "stream",
     "text": [
      "<class 'pandas.core.frame.DataFrame'>\n",
      "RangeIndex: 1985 entries, 0 to 1984\n",
      "Data columns (total 11 columns):\n",
      " #   Column            Non-Null Count  Dtype  \n",
      "---  ------            --------------  -----  \n",
      " 0   Age               1985 non-null   int64  \n",
      " 1   Salt_Intake       1985 non-null   float64\n",
      " 2   Stress_Score      1985 non-null   int64  \n",
      " 3   BP_History        1985 non-null   object \n",
      " 4   Sleep_Duration    1985 non-null   float64\n",
      " 5   BMI               1985 non-null   float64\n",
      " 6   Medication        1186 non-null   object \n",
      " 7   Family_History    1985 non-null   object \n",
      " 8   Exercise_Level    1985 non-null   object \n",
      " 9   Smoking_Status    1985 non-null   object \n",
      " 10  Has_Hypertension  1985 non-null   object \n",
      "dtypes: float64(3), int64(2), object(6)\n",
      "memory usage: 170.7+ KB\n"
     ]
    }
   ],
   "source": [
    "df.info()"
   ]
  },
  {
   "cell_type": "code",
   "execution_count": 5,
   "id": "dfe3658b",
   "metadata": {},
   "outputs": [
    {
     "data": {
      "text/plain": [
       "(1985, 11)"
      ]
     },
     "execution_count": 5,
     "metadata": {},
     "output_type": "execute_result"
    }
   ],
   "source": [
    "df.shape"
   ]
  },
  {
   "cell_type": "markdown",
   "id": "3d3be040",
   "metadata": {},
   "source": [
    "# Data Handling & Cleaning "
   ]
  },
  {
   "cell_type": "code",
   "execution_count": null,
   "id": "8e08223d",
   "metadata": {},
   "outputs": [],
   "source": [
    "df[\"Medication\"].value_counts()\n",
    "df[\"Medication\"]=df[\"Medication\"].fillna(\"None\")"
   ]
  },
  {
   "cell_type": "code",
   "execution_count": 13,
   "id": "a22e47bd",
   "metadata": {},
   "outputs": [
    {
     "data": {
      "text/plain": [
       "np.int64(0)"
      ]
     },
     "execution_count": 13,
     "metadata": {},
     "output_type": "execute_result"
    }
   ],
   "source": [
    "df.isna().sum()\n",
    "df.duplicated().sum()"
   ]
  },
  {
   "cell_type": "code",
   "execution_count": 12,
   "id": "6de21620",
   "metadata": {},
   "outputs": [
    {
     "data": {
      "text/html": [
       "<div>\n",
       "<style scoped>\n",
       "    .dataframe tbody tr th:only-of-type {\n",
       "        vertical-align: middle;\n",
       "    }\n",
       "\n",
       "    .dataframe tbody tr th {\n",
       "        vertical-align: top;\n",
       "    }\n",
       "\n",
       "    .dataframe thead th {\n",
       "        text-align: right;\n",
       "    }\n",
       "</style>\n",
       "<table border=\"1\" class=\"dataframe\">\n",
       "  <thead>\n",
       "    <tr style=\"text-align: right;\">\n",
       "      <th></th>\n",
       "      <th>Age</th>\n",
       "      <th>Salt_Intake</th>\n",
       "      <th>Stress_Score</th>\n",
       "      <th>BP_History</th>\n",
       "      <th>Sleep_Duration</th>\n",
       "      <th>BMI</th>\n",
       "      <th>Medication</th>\n",
       "      <th>Family_History</th>\n",
       "      <th>Exercise_Level</th>\n",
       "      <th>Smoking_Status</th>\n",
       "      <th>Has_Hypertension</th>\n",
       "    </tr>\n",
       "  </thead>\n",
       "  <tbody>\n",
       "    <tr>\n",
       "      <th>0</th>\n",
       "      <td>69</td>\n",
       "      <td>8.0</td>\n",
       "      <td>9</td>\n",
       "      <td>Normal</td>\n",
       "      <td>6.4</td>\n",
       "      <td>25.8</td>\n",
       "      <td>None</td>\n",
       "      <td>Yes</td>\n",
       "      <td>Low</td>\n",
       "      <td>Non-Smoker</td>\n",
       "      <td>Yes</td>\n",
       "    </tr>\n",
       "    <tr>\n",
       "      <th>1</th>\n",
       "      <td>32</td>\n",
       "      <td>11.7</td>\n",
       "      <td>10</td>\n",
       "      <td>Normal</td>\n",
       "      <td>5.4</td>\n",
       "      <td>23.4</td>\n",
       "      <td>None</td>\n",
       "      <td>No</td>\n",
       "      <td>Low</td>\n",
       "      <td>Non-Smoker</td>\n",
       "      <td>No</td>\n",
       "    </tr>\n",
       "    <tr>\n",
       "      <th>2</th>\n",
       "      <td>78</td>\n",
       "      <td>9.5</td>\n",
       "      <td>3</td>\n",
       "      <td>Normal</td>\n",
       "      <td>7.1</td>\n",
       "      <td>18.7</td>\n",
       "      <td>None</td>\n",
       "      <td>No</td>\n",
       "      <td>Moderate</td>\n",
       "      <td>Non-Smoker</td>\n",
       "      <td>No</td>\n",
       "    </tr>\n",
       "    <tr>\n",
       "      <th>3</th>\n",
       "      <td>38</td>\n",
       "      <td>10.0</td>\n",
       "      <td>10</td>\n",
       "      <td>Hypertension</td>\n",
       "      <td>4.2</td>\n",
       "      <td>22.1</td>\n",
       "      <td>ACE Inhibitor</td>\n",
       "      <td>No</td>\n",
       "      <td>Low</td>\n",
       "      <td>Non-Smoker</td>\n",
       "      <td>Yes</td>\n",
       "    </tr>\n",
       "    <tr>\n",
       "      <th>4</th>\n",
       "      <td>41</td>\n",
       "      <td>9.8</td>\n",
       "      <td>1</td>\n",
       "      <td>Prehypertension</td>\n",
       "      <td>5.8</td>\n",
       "      <td>16.2</td>\n",
       "      <td>Other</td>\n",
       "      <td>No</td>\n",
       "      <td>Moderate</td>\n",
       "      <td>Non-Smoker</td>\n",
       "      <td>No</td>\n",
       "    </tr>\n",
       "  </tbody>\n",
       "</table>\n",
       "</div>"
      ],
      "text/plain": [
       "   Age  Salt_Intake  Stress_Score       BP_History  Sleep_Duration   BMI  \\\n",
       "0   69          8.0             9           Normal             6.4  25.8   \n",
       "1   32         11.7            10           Normal             5.4  23.4   \n",
       "2   78          9.5             3           Normal             7.1  18.7   \n",
       "3   38         10.0            10     Hypertension             4.2  22.1   \n",
       "4   41          9.8             1  Prehypertension             5.8  16.2   \n",
       "\n",
       "      Medication Family_History Exercise_Level Smoking_Status Has_Hypertension  \n",
       "0           None            Yes            Low     Non-Smoker              Yes  \n",
       "1           None             No            Low     Non-Smoker               No  \n",
       "2           None             No       Moderate     Non-Smoker               No  \n",
       "3  ACE Inhibitor             No            Low     Non-Smoker              Yes  \n",
       "4          Other             No       Moderate     Non-Smoker               No  "
      ]
     },
     "execution_count": 12,
     "metadata": {},
     "output_type": "execute_result"
    }
   ],
   "source": [
    "df.head()"
   ]
  },
  {
   "cell_type": "markdown",
   "id": "1d8eaa80",
   "metadata": {},
   "source": [
    "# EDA & Visualization "
   ]
  },
  {
   "cell_type": "code",
   "execution_count": 19,
   "id": "9a03f015",
   "metadata": {},
   "outputs": [
    {
     "data": {
      "application/vnd.plotly.v1+json": {
       "config": {
        "plotlyServerURL": "https://plot.ly"
       },
       "data": [
        {
         "domain": {
          "x": [
           0,
           1
          ],
          "y": [
           0,
           1
          ]
         },
         "hovertemplate": "Smoking_Status=%{label}<br>Count=%{value}<extra></extra>",
         "labels": [
          "Non-Smoker",
          "Smoker"
         ],
         "legendgroup": "",
         "name": "",
         "showlegend": true,
         "textinfo": "percent+label",
         "textposition": "inside",
         "type": "pie",
         "values": {
          "bdata": "iQU4Ag==",
          "dtype": "i2"
         }
        }
       ],
       "layout": {
        "legend": {
         "tracegroupgap": 0
        },
        "showlegend": true,
        "template": {
         "data": {
          "bar": [
           {
            "error_x": {
             "color": "#2a3f5f"
            },
            "error_y": {
             "color": "#2a3f5f"
            },
            "marker": {
             "line": {
              "color": "#E5ECF6",
              "width": 0.5
             },
             "pattern": {
              "fillmode": "overlay",
              "size": 10,
              "solidity": 0.2
             }
            },
            "type": "bar"
           }
          ],
          "barpolar": [
           {
            "marker": {
             "line": {
              "color": "#E5ECF6",
              "width": 0.5
             },
             "pattern": {
              "fillmode": "overlay",
              "size": 10,
              "solidity": 0.2
             }
            },
            "type": "barpolar"
           }
          ],
          "carpet": [
           {
            "aaxis": {
             "endlinecolor": "#2a3f5f",
             "gridcolor": "white",
             "linecolor": "white",
             "minorgridcolor": "white",
             "startlinecolor": "#2a3f5f"
            },
            "baxis": {
             "endlinecolor": "#2a3f5f",
             "gridcolor": "white",
             "linecolor": "white",
             "minorgridcolor": "white",
             "startlinecolor": "#2a3f5f"
            },
            "type": "carpet"
           }
          ],
          "choropleth": [
           {
            "colorbar": {
             "outlinewidth": 0,
             "ticks": ""
            },
            "type": "choropleth"
           }
          ],
          "contour": [
           {
            "colorbar": {
             "outlinewidth": 0,
             "ticks": ""
            },
            "colorscale": [
             [
              0,
              "#0d0887"
             ],
             [
              0.1111111111111111,
              "#46039f"
             ],
             [
              0.2222222222222222,
              "#7201a8"
             ],
             [
              0.3333333333333333,
              "#9c179e"
             ],
             [
              0.4444444444444444,
              "#bd3786"
             ],
             [
              0.5555555555555556,
              "#d8576b"
             ],
             [
              0.6666666666666666,
              "#ed7953"
             ],
             [
              0.7777777777777778,
              "#fb9f3a"
             ],
             [
              0.8888888888888888,
              "#fdca26"
             ],
             [
              1,
              "#f0f921"
             ]
            ],
            "type": "contour"
           }
          ],
          "contourcarpet": [
           {
            "colorbar": {
             "outlinewidth": 0,
             "ticks": ""
            },
            "type": "contourcarpet"
           }
          ],
          "heatmap": [
           {
            "colorbar": {
             "outlinewidth": 0,
             "ticks": ""
            },
            "colorscale": [
             [
              0,
              "#0d0887"
             ],
             [
              0.1111111111111111,
              "#46039f"
             ],
             [
              0.2222222222222222,
              "#7201a8"
             ],
             [
              0.3333333333333333,
              "#9c179e"
             ],
             [
              0.4444444444444444,
              "#bd3786"
             ],
             [
              0.5555555555555556,
              "#d8576b"
             ],
             [
              0.6666666666666666,
              "#ed7953"
             ],
             [
              0.7777777777777778,
              "#fb9f3a"
             ],
             [
              0.8888888888888888,
              "#fdca26"
             ],
             [
              1,
              "#f0f921"
             ]
            ],
            "type": "heatmap"
           }
          ],
          "histogram": [
           {
            "marker": {
             "pattern": {
              "fillmode": "overlay",
              "size": 10,
              "solidity": 0.2
             }
            },
            "type": "histogram"
           }
          ],
          "histogram2d": [
           {
            "colorbar": {
             "outlinewidth": 0,
             "ticks": ""
            },
            "colorscale": [
             [
              0,
              "#0d0887"
             ],
             [
              0.1111111111111111,
              "#46039f"
             ],
             [
              0.2222222222222222,
              "#7201a8"
             ],
             [
              0.3333333333333333,
              "#9c179e"
             ],
             [
              0.4444444444444444,
              "#bd3786"
             ],
             [
              0.5555555555555556,
              "#d8576b"
             ],
             [
              0.6666666666666666,
              "#ed7953"
             ],
             [
              0.7777777777777778,
              "#fb9f3a"
             ],
             [
              0.8888888888888888,
              "#fdca26"
             ],
             [
              1,
              "#f0f921"
             ]
            ],
            "type": "histogram2d"
           }
          ],
          "histogram2dcontour": [
           {
            "colorbar": {
             "outlinewidth": 0,
             "ticks": ""
            },
            "colorscale": [
             [
              0,
              "#0d0887"
             ],
             [
              0.1111111111111111,
              "#46039f"
             ],
             [
              0.2222222222222222,
              "#7201a8"
             ],
             [
              0.3333333333333333,
              "#9c179e"
             ],
             [
              0.4444444444444444,
              "#bd3786"
             ],
             [
              0.5555555555555556,
              "#d8576b"
             ],
             [
              0.6666666666666666,
              "#ed7953"
             ],
             [
              0.7777777777777778,
              "#fb9f3a"
             ],
             [
              0.8888888888888888,
              "#fdca26"
             ],
             [
              1,
              "#f0f921"
             ]
            ],
            "type": "histogram2dcontour"
           }
          ],
          "mesh3d": [
           {
            "colorbar": {
             "outlinewidth": 0,
             "ticks": ""
            },
            "type": "mesh3d"
           }
          ],
          "parcoords": [
           {
            "line": {
             "colorbar": {
              "outlinewidth": 0,
              "ticks": ""
             }
            },
            "type": "parcoords"
           }
          ],
          "pie": [
           {
            "automargin": true,
            "type": "pie"
           }
          ],
          "scatter": [
           {
            "fillpattern": {
             "fillmode": "overlay",
             "size": 10,
             "solidity": 0.2
            },
            "type": "scatter"
           }
          ],
          "scatter3d": [
           {
            "line": {
             "colorbar": {
              "outlinewidth": 0,
              "ticks": ""
             }
            },
            "marker": {
             "colorbar": {
              "outlinewidth": 0,
              "ticks": ""
             }
            },
            "type": "scatter3d"
           }
          ],
          "scattercarpet": [
           {
            "marker": {
             "colorbar": {
              "outlinewidth": 0,
              "ticks": ""
             }
            },
            "type": "scattercarpet"
           }
          ],
          "scattergeo": [
           {
            "marker": {
             "colorbar": {
              "outlinewidth": 0,
              "ticks": ""
             }
            },
            "type": "scattergeo"
           }
          ],
          "scattergl": [
           {
            "marker": {
             "colorbar": {
              "outlinewidth": 0,
              "ticks": ""
             }
            },
            "type": "scattergl"
           }
          ],
          "scattermap": [
           {
            "marker": {
             "colorbar": {
              "outlinewidth": 0,
              "ticks": ""
             }
            },
            "type": "scattermap"
           }
          ],
          "scattermapbox": [
           {
            "marker": {
             "colorbar": {
              "outlinewidth": 0,
              "ticks": ""
             }
            },
            "type": "scattermapbox"
           }
          ],
          "scatterpolar": [
           {
            "marker": {
             "colorbar": {
              "outlinewidth": 0,
              "ticks": ""
             }
            },
            "type": "scatterpolar"
           }
          ],
          "scatterpolargl": [
           {
            "marker": {
             "colorbar": {
              "outlinewidth": 0,
              "ticks": ""
             }
            },
            "type": "scatterpolargl"
           }
          ],
          "scatterternary": [
           {
            "marker": {
             "colorbar": {
              "outlinewidth": 0,
              "ticks": ""
             }
            },
            "type": "scatterternary"
           }
          ],
          "surface": [
           {
            "colorbar": {
             "outlinewidth": 0,
             "ticks": ""
            },
            "colorscale": [
             [
              0,
              "#0d0887"
             ],
             [
              0.1111111111111111,
              "#46039f"
             ],
             [
              0.2222222222222222,
              "#7201a8"
             ],
             [
              0.3333333333333333,
              "#9c179e"
             ],
             [
              0.4444444444444444,
              "#bd3786"
             ],
             [
              0.5555555555555556,
              "#d8576b"
             ],
             [
              0.6666666666666666,
              "#ed7953"
             ],
             [
              0.7777777777777778,
              "#fb9f3a"
             ],
             [
              0.8888888888888888,
              "#fdca26"
             ],
             [
              1,
              "#f0f921"
             ]
            ],
            "type": "surface"
           }
          ],
          "table": [
           {
            "cells": {
             "fill": {
              "color": "#EBF0F8"
             },
             "line": {
              "color": "white"
             }
            },
            "header": {
             "fill": {
              "color": "#C8D4E3"
             },
             "line": {
              "color": "white"
             }
            },
            "type": "table"
           }
          ]
         },
         "layout": {
          "annotationdefaults": {
           "arrowcolor": "#2a3f5f",
           "arrowhead": 0,
           "arrowwidth": 1
          },
          "autotypenumbers": "strict",
          "coloraxis": {
           "colorbar": {
            "outlinewidth": 0,
            "ticks": ""
           }
          },
          "colorscale": {
           "diverging": [
            [
             0,
             "#8e0152"
            ],
            [
             0.1,
             "#c51b7d"
            ],
            [
             0.2,
             "#de77ae"
            ],
            [
             0.3,
             "#f1b6da"
            ],
            [
             0.4,
             "#fde0ef"
            ],
            [
             0.5,
             "#f7f7f7"
            ],
            [
             0.6,
             "#e6f5d0"
            ],
            [
             0.7,
             "#b8e186"
            ],
            [
             0.8,
             "#7fbc41"
            ],
            [
             0.9,
             "#4d9221"
            ],
            [
             1,
             "#276419"
            ]
           ],
           "sequential": [
            [
             0,
             "#0d0887"
            ],
            [
             0.1111111111111111,
             "#46039f"
            ],
            [
             0.2222222222222222,
             "#7201a8"
            ],
            [
             0.3333333333333333,
             "#9c179e"
            ],
            [
             0.4444444444444444,
             "#bd3786"
            ],
            [
             0.5555555555555556,
             "#d8576b"
            ],
            [
             0.6666666666666666,
             "#ed7953"
            ],
            [
             0.7777777777777778,
             "#fb9f3a"
            ],
            [
             0.8888888888888888,
             "#fdca26"
            ],
            [
             1,
             "#f0f921"
            ]
           ],
           "sequentialminus": [
            [
             0,
             "#0d0887"
            ],
            [
             0.1111111111111111,
             "#46039f"
            ],
            [
             0.2222222222222222,
             "#7201a8"
            ],
            [
             0.3333333333333333,
             "#9c179e"
            ],
            [
             0.4444444444444444,
             "#bd3786"
            ],
            [
             0.5555555555555556,
             "#d8576b"
            ],
            [
             0.6666666666666666,
             "#ed7953"
            ],
            [
             0.7777777777777778,
             "#fb9f3a"
            ],
            [
             0.8888888888888888,
             "#fdca26"
            ],
            [
             1,
             "#f0f921"
            ]
           ]
          },
          "colorway": [
           "#636efa",
           "#EF553B",
           "#00cc96",
           "#ab63fa",
           "#FFA15A",
           "#19d3f3",
           "#FF6692",
           "#B6E880",
           "#FF97FF",
           "#FECB52"
          ],
          "font": {
           "color": "#2a3f5f"
          },
          "geo": {
           "bgcolor": "white",
           "lakecolor": "white",
           "landcolor": "#E5ECF6",
           "showlakes": true,
           "showland": true,
           "subunitcolor": "white"
          },
          "hoverlabel": {
           "align": "left"
          },
          "hovermode": "closest",
          "mapbox": {
           "style": "light"
          },
          "paper_bgcolor": "white",
          "plot_bgcolor": "#E5ECF6",
          "polar": {
           "angularaxis": {
            "gridcolor": "white",
            "linecolor": "white",
            "ticks": ""
           },
           "bgcolor": "#E5ECF6",
           "radialaxis": {
            "gridcolor": "white",
            "linecolor": "white",
            "ticks": ""
           }
          },
          "scene": {
           "xaxis": {
            "backgroundcolor": "#E5ECF6",
            "gridcolor": "white",
            "gridwidth": 2,
            "linecolor": "white",
            "showbackground": true,
            "ticks": "",
            "zerolinecolor": "white"
           },
           "yaxis": {
            "backgroundcolor": "#E5ECF6",
            "gridcolor": "white",
            "gridwidth": 2,
            "linecolor": "white",
            "showbackground": true,
            "ticks": "",
            "zerolinecolor": "white"
           },
           "zaxis": {
            "backgroundcolor": "#E5ECF6",
            "gridcolor": "white",
            "gridwidth": 2,
            "linecolor": "white",
            "showbackground": true,
            "ticks": "",
            "zerolinecolor": "white"
           }
          },
          "shapedefaults": {
           "line": {
            "color": "#2a3f5f"
           }
          },
          "ternary": {
           "aaxis": {
            "gridcolor": "white",
            "linecolor": "white",
            "ticks": ""
           },
           "baxis": {
            "gridcolor": "white",
            "linecolor": "white",
            "ticks": ""
           },
           "bgcolor": "#E5ECF6",
           "caxis": {
            "gridcolor": "white",
            "linecolor": "white",
            "ticks": ""
           }
          },
          "title": {
           "x": 0.05
          },
          "xaxis": {
           "automargin": true,
           "gridcolor": "white",
           "linecolor": "white",
           "ticks": "",
           "title": {
            "standoff": 15
           },
           "zerolinecolor": "white",
           "zerolinewidth": 2
          },
          "yaxis": {
           "automargin": true,
           "gridcolor": "white",
           "linecolor": "white",
           "ticks": "",
           "title": {
            "standoff": 15
           },
           "zerolinecolor": "white",
           "zerolinewidth": 2
          }
         }
        },
        "title": {
         "text": "Distribution of Smoking Status"
        }
       }
      }
     },
     "metadata": {},
     "output_type": "display_data"
    }
   ],
   "source": [
    "import plotly.express as px\n",
    "\n",
    "smoking_counts = df[\"Smoking_Status\"].value_counts().reset_index()\n",
    "smoking_counts.columns = [\"Smoking_Status\", \"Count\"]\n",
    "\n",
    "fig = px.pie(smoking_counts, names=\"Smoking_Status\", values=\"Count\",\n",
    "             title=\"Distribution of Smoking Status\")\n",
    "fig.update_traces(textposition='inside', textinfo='percent+label')\n",
    "fig.update_layout(showlegend=True)\n",
    "\n",
    "fig.show()"
   ]
  },
  {
   "cell_type": "code",
   "execution_count": 20,
   "id": "17e979ed",
   "metadata": {},
   "outputs": [
    {
     "data": {
      "text/html": [
       "<div>\n",
       "<style scoped>\n",
       "    .dataframe tbody tr th:only-of-type {\n",
       "        vertical-align: middle;\n",
       "    }\n",
       "\n",
       "    .dataframe tbody tr th {\n",
       "        vertical-align: top;\n",
       "    }\n",
       "\n",
       "    .dataframe thead th {\n",
       "        text-align: right;\n",
       "    }\n",
       "</style>\n",
       "<table border=\"1\" class=\"dataframe\">\n",
       "  <thead>\n",
       "    <tr style=\"text-align: right;\">\n",
       "      <th></th>\n",
       "      <th>Age</th>\n",
       "      <th>Salt_Intake</th>\n",
       "      <th>Stress_Score</th>\n",
       "      <th>BP_History</th>\n",
       "      <th>Sleep_Duration</th>\n",
       "      <th>BMI</th>\n",
       "      <th>Medication</th>\n",
       "      <th>Family_History</th>\n",
       "      <th>Exercise_Level</th>\n",
       "      <th>Smoking_Status</th>\n",
       "      <th>Has_Hypertension</th>\n",
       "    </tr>\n",
       "  </thead>\n",
       "  <tbody>\n",
       "    <tr>\n",
       "      <th>0</th>\n",
       "      <td>69</td>\n",
       "      <td>8.0</td>\n",
       "      <td>9</td>\n",
       "      <td>Normal</td>\n",
       "      <td>6.4</td>\n",
       "      <td>25.8</td>\n",
       "      <td>None</td>\n",
       "      <td>Yes</td>\n",
       "      <td>Low</td>\n",
       "      <td>Non-Smoker</td>\n",
       "      <td>Yes</td>\n",
       "    </tr>\n",
       "    <tr>\n",
       "      <th>1</th>\n",
       "      <td>32</td>\n",
       "      <td>11.7</td>\n",
       "      <td>10</td>\n",
       "      <td>Normal</td>\n",
       "      <td>5.4</td>\n",
       "      <td>23.4</td>\n",
       "      <td>None</td>\n",
       "      <td>No</td>\n",
       "      <td>Low</td>\n",
       "      <td>Non-Smoker</td>\n",
       "      <td>No</td>\n",
       "    </tr>\n",
       "    <tr>\n",
       "      <th>2</th>\n",
       "      <td>78</td>\n",
       "      <td>9.5</td>\n",
       "      <td>3</td>\n",
       "      <td>Normal</td>\n",
       "      <td>7.1</td>\n",
       "      <td>18.7</td>\n",
       "      <td>None</td>\n",
       "      <td>No</td>\n",
       "      <td>Moderate</td>\n",
       "      <td>Non-Smoker</td>\n",
       "      <td>No</td>\n",
       "    </tr>\n",
       "    <tr>\n",
       "      <th>3</th>\n",
       "      <td>38</td>\n",
       "      <td>10.0</td>\n",
       "      <td>10</td>\n",
       "      <td>Hypertension</td>\n",
       "      <td>4.2</td>\n",
       "      <td>22.1</td>\n",
       "      <td>ACE Inhibitor</td>\n",
       "      <td>No</td>\n",
       "      <td>Low</td>\n",
       "      <td>Non-Smoker</td>\n",
       "      <td>Yes</td>\n",
       "    </tr>\n",
       "    <tr>\n",
       "      <th>4</th>\n",
       "      <td>41</td>\n",
       "      <td>9.8</td>\n",
       "      <td>1</td>\n",
       "      <td>Prehypertension</td>\n",
       "      <td>5.8</td>\n",
       "      <td>16.2</td>\n",
       "      <td>Other</td>\n",
       "      <td>No</td>\n",
       "      <td>Moderate</td>\n",
       "      <td>Non-Smoker</td>\n",
       "      <td>No</td>\n",
       "    </tr>\n",
       "  </tbody>\n",
       "</table>\n",
       "</div>"
      ],
      "text/plain": [
       "   Age  Salt_Intake  Stress_Score       BP_History  Sleep_Duration   BMI  \\\n",
       "0   69          8.0             9           Normal             6.4  25.8   \n",
       "1   32         11.7            10           Normal             5.4  23.4   \n",
       "2   78          9.5             3           Normal             7.1  18.7   \n",
       "3   38         10.0            10     Hypertension             4.2  22.1   \n",
       "4   41          9.8             1  Prehypertension             5.8  16.2   \n",
       "\n",
       "      Medication Family_History Exercise_Level Smoking_Status Has_Hypertension  \n",
       "0           None            Yes            Low     Non-Smoker              Yes  \n",
       "1           None             No            Low     Non-Smoker               No  \n",
       "2           None             No       Moderate     Non-Smoker               No  \n",
       "3  ACE Inhibitor             No            Low     Non-Smoker              Yes  \n",
       "4          Other             No       Moderate     Non-Smoker               No  "
      ]
     },
     "execution_count": 20,
     "metadata": {},
     "output_type": "execute_result"
    }
   ],
   "source": [
    "df.head()"
   ]
  },
  {
   "cell_type": "code",
   "execution_count": 28,
   "id": "0761b842",
   "metadata": {},
   "outputs": [
    {
     "data": {
      "text/plain": [
       "Text(0.5, 1.0, 'Age Brackets That Has Hyper Tension')"
      ]
     },
     "execution_count": 28,
     "metadata": {},
     "output_type": "execute_result"
    },
    {
     "data": {
      "image/png": "[encoded data removed]",
      "text/plain": [
       "<Figure size 1800x600 with 1 Axes>"
      ]
     },
     "metadata": {},
     "output_type": "display_data"
    }
   ],
   "source": [
    "plt.figure(figsize=(18,6))\n",
    "sns.set_style(\"whitegrid\")\n",
    "sns.lineplot(data=df,x=\"Age\",y=\"Has_Hypertension\")\n",
    "plt.title(\"Age Brackets That Has Hyper Tension\",size=15)"
   ]
  },
  {
   "cell_type": "code",
   "execution_count": 30,
   "id": "eb8b105a",
   "metadata": {},
   "outputs": [
    {
     "data": {
      "image/png": "[encoded data removed]",
      "text/plain": [
       "<Figure size 800x500 with 1 Axes>"
      ]
     },
     "metadata": {},
     "output_type": "display_data"
    }
   ],
   "source": [
    "import seaborn as sns\n",
    "import matplotlib.pyplot as plt\n",
    "\n",
    "plt.figure(figsize=(8,5))\n",
    "sns.histplot(df[\"Age\"], bins=30, kde=True, color=\"steelblue\")\n",
    "plt.title(\"Age Distribution\")\n",
    "plt.xlabel(\"Age\")\n",
    "plt.ylabel(\"Frequency\")\n",
    "plt.tight_layout()\n",
    "plt.show()\n"
   ]
  },
  {
   "cell_type": "code",
   "execution_count": 31,
   "id": "52ad6b29",
   "metadata": {},
   "outputs": [
    {
     "data": {
      "application/vnd.plotly.v1+json": {
       "config": {
        "plotlyServerURL": "https://plot.ly"
       },
       "data": [
        {
         "alignmentgroup": "True",
         "hovertemplate": "variable=Yes<br>Smoking_Status=%{x}<br>value=%{y}<extra></extra>",
         "legendgroup": "Yes",
         "marker": {
          "color": "#636efa",
          "pattern": {
           "shape": ""
          }
         },
         "name": "Yes",
         "offsetgroup": "Yes",
         "orientation": "v",
         "showlegend": true,
         "textposition": "auto",
         "type": "bar",
         "x": [
          "Non-Smoker",
          "Smoker"
         ],
         "xaxis": "x",
         "y": {
          "bdata": "cAKYAQ==",
          "dtype": "i2"
         },
         "yaxis": "y"
        },
        {
         "alignmentgroup": "True",
         "hovertemplate": "variable=No<br>Smoking_Status=%{x}<br>value=%{y}<extra></extra>",
         "legendgroup": "No",
         "marker": {
          "color": "#EF553B",
          "pattern": {
           "shape": ""
          }
         },
         "name": "No",
         "offsetgroup": "No",
         "orientation": "v",
         "showlegend": true,
         "textposition": "auto",
         "type": "bar",
         "x": [
          "Non-Smoker",
          "Smoker"
         ],
         "xaxis": "x",
         "y": {
          "bdata": "GQOgAA==",
          "dtype": "i2"
         },
         "yaxis": "y"
        }
       ],
       "layout": {
        "barmode": "group",
        "legend": {
         "title": {
          "text": "variable"
         },
         "tracegroupgap": 0
        },
        "template": {
         "data": {
          "bar": [
           {
            "error_x": {
             "color": "#2a3f5f"
            },
            "error_y": {
             "color": "#2a3f5f"
            },
            "marker": {
             "line": {
              "color": "#E5ECF6",
              "width": 0.5
             },
             "pattern": {
              "fillmode": "overlay",
              "size": 10,
              "solidity": 0.2
             }
            },
            "type": "bar"
           }
          ],
          "barpolar": [
           {
            "marker": {
             "line": {
              "color": "#E5ECF6",
              "width": 0.5
             },
             "pattern": {
              "fillmode": "overlay",
              "size": 10,
              "solidity": 0.2
             }
            },
            "type": "barpolar"
           }
          ],
          "carpet": [
           {
            "aaxis": {
             "endlinecolor": "#2a3f5f",
             "gridcolor": "white",
             "linecolor": "white",
             "minorgridcolor": "white",
             "startlinecolor": "#2a3f5f"
            },
            "baxis": {
             "endlinecolor": "#2a3f5f",
             "gridcolor": "white",
             "linecolor": "white",
             "minorgridcolor": "white",
             "startlinecolor": "#2a3f5f"
            },
            "type": "carpet"
           }
          ],
          "choropleth": [
           {
            "colorbar": {
             "outlinewidth": 0,
             "ticks": ""
            },
            "type": "choropleth"
           }
          ],
          "contour": [
           {
            "colorbar": {
             "outlinewidth": 0,
             "ticks": ""
            },
            "colorscale": [
             [
              0,
              "#0d0887"
             ],
             [
              0.1111111111111111,
              "#46039f"
             ],
             [
              0.2222222222222222,
              "#7201a8"
             ],
             [
              0.3333333333333333,
              "#9c179e"
             ],
             [
              0.4444444444444444,
              "#bd3786"
             ],
             [
              0.5555555555555556,
              "#d8576b"
             ],
             [
              0.6666666666666666,
              "#ed7953"
             ],
             [
              0.7777777777777778,
              "#fb9f3a"
             ],
             [
              0.8888888888888888,
              "#fdca26"
             ],
             [
              1,
              "#f0f921"
             ]
            ],
            "type": "contour"
           }
          ],
          "contourcarpet": [
           {
            "colorbar": {
             "outlinewidth": 0,
             "ticks": ""
            },
            "type": "contourcarpet"
           }
          ],
          "heatmap": [
           {
            "colorbar": {
             "outlinewidth": 0,
             "ticks": ""
            },
            "colorscale": [
             [
              0,
              "#0d0887"
             ],
             [
              0.1111111111111111,
              "#46039f"
             ],
             [
              0.2222222222222222,
              "#7201a8"
             ],
             [
              0.3333333333333333,
              "#9c179e"
             ],
             [
              0.4444444444444444,
              "#bd3786"
             ],
             [
              0.5555555555555556,
              "#d8576b"
             ],
             [
              0.6666666666666666,
              "#ed7953"
             ],
             [
              0.7777777777777778,
              "#fb9f3a"
             ],
             [
              0.8888888888888888,
              "#fdca26"
             ],
             [
              1,
              "#f0f921"
             ]
            ],
            "type": "heatmap"
           }
          ],
          "histogram": [
           {
            "marker": {
             "pattern": {
              "fillmode": "overlay",
              "size": 10,
              "solidity": 0.2
             }
            },
            "type": "histogram"
           }
          ],
          "histogram2d": [
           {
            "colorbar": {
             "outlinewidth": 0,
             "ticks": ""
            },
            "colorscale": [
             [
              0,
              "#0d0887"
             ],
             [
              0.1111111111111111,
              "#46039f"
             ],
             [
              0.2222222222222222,
              "#7201a8"
             ],
             [
              0.3333333333333333,
              "#9c179e"
             ],
             [
              0.4444444444444444,
              "#bd3786"
             ],
             [
              0.5555555555555556,
              "#d8576b"
             ],
             [
              0.6666666666666666,
              "#ed7953"
             ],
             [
              0.7777777777777778,
              "#fb9f3a"
             ],
             [
              0.8888888888888888,
              "#fdca26"
             ],
             [
              1,
              "#f0f921"
             ]
            ],
            "type": "histogram2d"
           }
          ],
          "histogram2dcontour": [
           {
            "colorbar": {
             "outlinewidth": 0,
             "ticks": ""
            },
            "colorscale": [
             [
              0,
              "#0d0887"
             ],
             [
              0.1111111111111111,
              "#46039f"
             ],
             [
              0.2222222222222222,
              "#7201a8"
             ],
             [
              0.3333333333333333,
              "#9c179e"
             ],
             [
              0.4444444444444444,
              "#bd3786"
             ],
             [
              0.5555555555555556,
              "#d8576b"
             ],
             [
              0.6666666666666666,
              "#ed7953"
             ],
             [
              0.7777777777777778,
              "#fb9f3a"
             ],
             [
              0.8888888888888888,
              "#fdca26"
             ],
             [
              1,
              "#f0f921"
             ]
            ],
            "type": "histogram2dcontour"
           }
          ],
          "mesh3d": [
           {
            "colorbar": {
             "outlinewidth": 0,
             "ticks": ""
            },
            "type": "mesh3d"
           }
          ],
          "parcoords": [
           {
            "line": {
             "colorbar": {
              "outlinewidth": 0,
              "ticks": ""
             }
            },
            "type": "parcoords"
           }
          ],
          "pie": [
           {
            "automargin": true,
            "type": "pie"
           }
          ],
          "scatter": [
           {
            "fillpattern": {
             "fillmode": "overlay",
             "size": 10,
             "solidity": 0.2
            },
            "type": "scatter"
           }
          ],
          "scatter3d": [
           {
            "line": {
             "colorbar": {
              "outlinewidth": 0,
              "ticks": ""
             }
            },
            "marker": {
             "colorbar": {
              "outlinewidth": 0,
              "ticks": ""
             }
            },
            "type": "scatter3d"
           }
          ],
          "scattercarpet": [
           {
            "marker": {
             "colorbar": {
              "outlinewidth": 0,
              "ticks": ""
             }
            },
            "type": "scattercarpet"
           }
          ],
          "scattergeo": [
           {
            "marker": {
             "colorbar": {
              "outlinewidth": 0,
              "ticks": ""
             }
            },
            "type": "scattergeo"
           }
          ],
          "scattergl": [
           {
            "marker": {
             "colorbar": {
              "outlinewidth": 0,
              "ticks": ""
             }
            },
            "type": "scattergl"
           }
          ],
          "scattermap": [
           {
            "marker": {
             "colorbar": {
              "outlinewidth": 0,
              "ticks": ""
             }
            },
            "type": "scattermap"
           }
          ],
          "scattermapbox": [
           {
            "marker": {
             "colorbar": {
              "outlinewidth": 0,
              "ticks": ""
             }
            },
            "type": "scattermapbox"
           }
          ],
          "scatterpolar": [
           {
            "marker": {
             "colorbar": {
              "outlinewidth": 0,
              "ticks": ""
             }
            },
            "type": "scatterpolar"
           }
          ],
          "scatterpolargl": [
           {
            "marker": {
             "colorbar": {
              "outlinewidth": 0,
              "ticks": ""
             }
            },
            "type": "scatterpolargl"
           }
          ],
          "scatterternary": [
           {
            "marker": {
             "colorbar": {
              "outlinewidth": 0,
              "ticks": ""
             }
            },
            "type": "scatterternary"
           }
          ],
          "surface": [
           {
            "colorbar": {
             "outlinewidth": 0,
             "ticks": ""
            },
            "colorscale": [
             [
              0,
              "#0d0887"
             ],
             [
              0.1111111111111111,
              "#46039f"
             ],
             [
              0.2222222222222222,
              "#7201a8"
             ],
             [
              0.3333333333333333,
              "#9c179e"
             ],
             [
              0.4444444444444444,
              "#bd3786"
             ],
             [
              0.5555555555555556,
              "#d8576b"
             ],
             [
              0.6666666666666666,
              "#ed7953"
             ],
             [
              0.7777777777777778,
              "#fb9f3a"
             ],
             [
              0.8888888888888888,
              "#fdca26"
             ],
             [
              1,
              "#f0f921"
             ]
            ],
            "type": "surface"
           }
          ],
          "table": [
           {
            "cells": {
             "fill": {
              "color": "#EBF0F8"
             },
             "line": {
              "color": "white"
             }
            },
            "header": {
             "fill": {
              "color": "#C8D4E3"
             },
             "line": {
              "color": "white"
             }
            },
            "type": "table"
           }
          ]
         },
         "layout": {
          "annotationdefaults": {
           "arrowcolor": "#2a3f5f",
           "arrowhead": 0,
           "arrowwidth": 1
          },
          "autotypenumbers": "strict",
          "coloraxis": {
           "colorbar": {
            "outlinewidth": 0,
            "ticks": ""
           }
          },
          "colorscale": {
           "diverging": [
            [
             0,
             "#8e0152"
            ],
            [
             0.1,
             "#c51b7d"
            ],
            [
             0.2,
             "#de77ae"
            ],
            [
             0.3,
             "#f1b6da"
            ],
            [
             0.4,
             "#fde0ef"
            ],
            [
             0.5,
             "#f7f7f7"
            ],
            [
             0.6,
             "#e6f5d0"
            ],
            [
             0.7,
             "#b8e186"
            ],
            [
             0.8,
             "#7fbc41"
            ],
            [
             0.9,
             "#4d9221"
            ],
            [
             1,
             "#276419"
            ]
           ],
           "sequential": [
            [
             0,
             "#0d0887"
            ],
            [
             0.1111111111111111,
             "#46039f"
            ],
            [
             0.2222222222222222,
             "#7201a8"
            ],
            [
             0.3333333333333333,
             "#9c179e"
            ],
            [
             0.4444444444444444,
             "#bd3786"
            ],
            [
             0.5555555555555556,
             "#d8576b"
            ],
            [
             0.6666666666666666,
             "#ed7953"
            ],
            [
             0.7777777777777778,
             "#fb9f3a"
            ],
            [
             0.8888888888888888,
             "#fdca26"
            ],
            [
             1,
             "#f0f921"
            ]
           ],
           "sequentialminus": [
            [
             0,
             "#0d0887"
            ],
            [
             0.1111111111111111,
             "#46039f"
            ],
            [
             0.2222222222222222,
             "#7201a8"
            ],
            [
             0.3333333333333333,
             "#9c179e"
            ],
            [
             0.4444444444444444,
             "#bd3786"
            ],
            [
             0.5555555555555556,
             "#d8576b"
            ],
            [
             0.6666666666666666,
             "#ed7953"
            ],
            [
             0.7777777777777778,
             "#fb9f3a"
            ],
            [
             0.8888888888888888,
             "#fdca26"
            ],
            [
             1,
             "#f0f921"
            ]
           ]
          },
          "colorway": [
           "#636efa",
           "#EF553B",
           "#00cc96",
           "#ab63fa",
           "#FFA15A",
           "#19d3f3",
           "#FF6692",
           "#B6E880",
           "#FF97FF",
           "#FECB52"
          ],
          "font": {
           "color": "#2a3f5f"
          },
          "geo": {
           "bgcolor": "white",
           "lakecolor": "white",
           "landcolor": "#E5ECF6",
           "showlakes": true,
           "showland": true,
           "subunitcolor": "white"
          },
          "hoverlabel": {
           "align": "left"
          },
          "hovermode": "closest",
          "mapbox": {
           "style": "light"
          },
          "paper_bgcolor": "white",
          "plot_bgcolor": "#E5ECF6",
          "polar": {
           "angularaxis": {
            "gridcolor": "white",
            "linecolor": "white",
            "ticks": ""
           },
           "bgcolor": "#E5ECF6",
           "radialaxis": {
            "gridcolor": "white",
            "linecolor": "white",
            "ticks": ""
           }
          },
          "scene": {
           "xaxis": {
            "backgroundcolor": "#E5ECF6",
            "gridcolor": "white",
            "gridwidth": 2,
            "linecolor": "white",
            "showbackground": true,
            "ticks": "",
            "zerolinecolor": "white"
           },
           "yaxis": {
            "backgroundcolor": "#E5ECF6",
            "gridcolor": "white",
            "gridwidth": 2,
            "linecolor": "white",
            "showbackground": true,
            "ticks": "",
            "zerolinecolor": "white"
           },
           "zaxis": {
            "backgroundcolor": "#E5ECF6",
            "gridcolor": "white",
            "gridwidth": 2,
            "linecolor": "white",
            "showbackground": true,
            "ticks": "",
            "zerolinecolor": "white"
           }
          },
          "shapedefaults": {
           "line": {
            "color": "#2a3f5f"
           }
          },
          "ternary": {
           "aaxis": {
            "gridcolor": "white",
            "linecolor": "white",
            "ticks": ""
           },
           "baxis": {
            "gridcolor": "white",
            "linecolor": "white",
            "ticks": ""
           },
           "bgcolor": "#E5ECF6",
           "caxis": {
            "gridcolor": "white",
            "linecolor": "white",
            "ticks": ""
           }
          },
          "title": {
           "x": 0.05
          },
          "xaxis": {
           "automargin": true,
           "gridcolor": "white",
           "linecolor": "white",
           "ticks": "",
           "title": {
            "standoff": 15
           },
           "zerolinecolor": "white",
           "zerolinewidth": 2
          },
          "yaxis": {
           "automargin": true,
           "gridcolor": "white",
           "linecolor": "white",
           "ticks": "",
           "title": {
            "standoff": 15
           },
           "zerolinecolor": "white",
           "zerolinewidth": 2
          }
         }
        },
        "title": {
         "text": "Hypertension by Smoking Status"
        },
        "xaxis": {
         "anchor": "y",
         "domain": [
          0,
          1
         ],
         "title": {
          "text": "Smoking_Status"
         }
        },
        "yaxis": {
         "anchor": "x",
         "domain": [
          0,
          1
         ],
         "title": {
          "text": "value"
         }
        }
       }
      }
     },
     "metadata": {},
     "output_type": "display_data"
    }
   ],
   "source": [
    "import plotly.express as px\n",
    "\n",
    "smoke_htn = df.groupby(\"Smoking_Status\")[\"Has_Hypertension\"].value_counts().unstack().fillna(0)\n",
    "smoke_htn = smoke_htn.reset_index()\n",
    "fig = px.bar(smoke_htn, x=\"Smoking_Status\", y=[\"Yes\", \"No\"], barmode=\"group\",\n",
    "             title=\"Hypertension by Smoking Status\")\n",
    "fig.show()\n"
   ]
  },
  {
   "cell_type": "code",
   "execution_count": 32,
   "id": "7cda83dc",
   "metadata": {},
   "outputs": [
    {
     "data": {
      "application/vnd.plotly.v1+json": {
       "config": {
        "plotlyServerURL": "https://plot.ly"
       },
       "data": [
        {
         "hovertemplate": "Has_Hypertension=Yes<br>Sleep_Duration=%{x}<br>Stress_Score=%{y}<extra></extra>",
         "legendgroup": "Yes",
         "marker": {
          "color": "#636efa",
          "symbol": "circle"
         },
         "mode": "markers",
         "name": "Yes",
         "showlegend": true,
         "type": "scattergl",
         "x": {
          "bdata": "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",
          "dtype": "f8"
         },
         "xaxis": "x",
         "y": {
          "bdata": "CQoDAQcJCAgKBgYACAkFBAYJCgkJCgkCBQIHBwYJAgIHBgIIBgEABAAJCgcHCAkICAYKBQoIAQEKCAIKCAMDCAIJBwUGCAEBAQgKBgkFCAoGBQIKAAIABAEHBQIHBAkHBAgICgoGCgQGCgIJAQoFCggIBAkHAAYEBQQACAgJCAUFCgYCAAEAAwAICgEIAQIGAgUICQIBBgEICQgGCQgDCAMICAkACAQEAwEJCAcIBAoCAwQJBwgBBgcEBgkCBgEDBgABCAkJBgUCAQoDBQoCCAgCBgAFAwIABwECCgkIBwYFCAYHCgIBCgkFCgIDCgYDAgIFCgUGBgoKCQEDCAoCBAMCAAMBAQUKAQcCCAcDAQgBBQYGBQcKAQQBCgAJBgMGBQAICAcIBAkBCAMFAQUKBgMBCgoACQUBBgkHBAoJAQkBCQcBCQYFAAMKBAkICgIDBwoABwIFCAIKCAkBAAkIBggBAgAEBAAKBAoFBwkJCgAICgYBCQUFCAMECQIBBQYGCQoGCgQBAAYGAgIGAQgIAgkKBgADBQYJAAkCCAoKAQMBCAYFCQoJCAQIBwAABwgBCAAACgQJAAEJAQgDBgkJCAkJAAEAAAIKCQIHBQAICQUGBQgKCQkGAAgDAwMJAAkABwQDAQkGBgEDAwUBAwoEAgUKBAoCBAgFBAcECAUHBgkFBggJCQAAAgADCQEJBAUIAwIBAQoICAEJBAkHCQUFAQMACQUFBQUJBgkCBAUECAYHCggJCgkIAwkJCQYIBgYAAQAEAQICAQEECQYDCgEJCQMHCAIBAgoABwEIBQIKCQEKBAUBCQkGBwgEBAoEAQkHBwIDBQoJBAYECgYHCgMECAkACAUHAQkKCQQHCAIJCggFCQUIAwgKAggIAwgBCQMECQAGCQcJAAYFAAoGBwcKBwkKAwIFAAEIAQYECQQGAQQCAwgDCgEECQgJBQcABAAICQgDAAoJBQgACQcDBAcIAAkEBwgFAwMBBgIABggCBwYFCQkKCAoABgoGBgcFAwcIAwIHAQkICgAACAIKAgAJCgoGCgEKBgABBgMFCggEAwMICgUDBwgICQEJCQgKBgYFCQUBAgUJAgcBCQIECQgCBwMKAggEBwcICgUHAAgIAwoKCQoCCQcGCAgECQAIBQkKBAkBCAMBCgYBCAAFBAUJBQIKBgQGAwoJCgkKBQkCAgcKAAUJCgQFAQoKAgIBAQEJAQAFCQQJBQkABAIDAQkKCAoHBwQFBQQDBwEICAkFBAUGCAUEAAgICQIECQkICggKAAYJCQMCCQQJCQEGAAAKBAgCCgcJAAcICgkDAgoBAQYICQoCAQgGAwEABwMGAgAFCgQEAQEIBgkAAggACgkJAwoBAwkJAAQJ",
          "dtype": "i1"
         },
         "yaxis": "y"
        },
        {
         "hovertemplate": "Has_Hypertension=No<br>Sleep_Duration=%{x}<br>Stress_Score=%{y}<extra></extra>",
         "legendgroup": "No",
         "marker": {
          "color": "#EF553B",
          "symbol": "circle"
         },
         "mode": "markers",
         "name": "No",
         "showlegend": true,
         "type": "scattergl",
         "x": {
          "bdata": "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",
          "dtype": "f8"
         },
         "xaxis": "x",
         "y": {
          "bdata": "CgMBAAUBBQYEBgIEBAoGBgICBQIDAwQECAYFCAUHAAgBAAMECgcHAAEHBAMFAQEJBgYCAgQHAAIFBgcBBgoDCQICBgUFBgYFAAUGAgYBBgAIBgEHAgcGAwQDAQEIBQoBBwIEBwIHAgMACAIAAAcBBQQFCgkBBwMHAwIDBgEDCQIECQcDBgUHBgYECAYJAgUEAgcDBgIGCAUCBwMJAAYBAwUBAAkCBQIEBwYHBQgABwcFCgcGCgAIBAAEAAIDBwYBBQMGAQcAAAEIBQAECAcDBAUCBAkAAQQBBgQEAwIECAoFBQYAAQAAAAcDCggGAwEHBwABBQAGAAYFAgMCBgcFCQADAQkHAgUFBwUAAAYGBQMCAQYABQYHBQIHAgEDBQACBAADBgYEAwYCAQEABAAFBQAGCQADCAYJBQkABgYBCAYJAQMEAAkCBwABCQYABAoFBwcEBwgDBAEHCQQBBgcDBAAAAQoDBwcKCAoEAgMEAgEACQIABwAGAwMEBgMHBQAJBwMGCQIKAQEJBwgAAwoCBgcBAwIBBQUCBwYDCgQGBAoJBgQEAgAJCgcJAgYBAgYBBAAJBQcCBwoDBAMDAQQEBgcGBggFAAIBBQcJBwcHAAEHAwgKAQMHBwQBAwUHBwAAAwkECQYFBAgHAQQJAgkHCQEEBgcJAwgGBAADAAYHCQQEAwUCBAEGCQUDAAYHBAQCBQIDAQcDBgEEAgQBBgEBAAoKAgUGCQUDCAMGAQAHBgIBBgAIAwUABgcDBgUDBAQAAQMDAwIGBAEGCQYECQkKAgQABgQABAMHBQoCAQAHAAMJBgoEBgMFBQgEAQUCAAICCAIGBAcGBQQAAQIDAAEDAgQBBAUAAwMIBAQCAQAHAgYHBQMABAAFAQEHBQEKCAcCAgEGAQUGAwYABgkEAQUGAQADBgIGAQEFAgEEAQIFAgAGAwYHAAMFCgQFBwIDBQIHAwADAgABAwEFBgIEAwYHBwICBwQGBwkDAgcKBgEFCAEIBgYABQoFBQUDAAcEAAMBBgEFBAQCCQoBBgAFAQEIBAcGCQQEBgEECQIIBQYDAwoABgMKAQACBgAICgUDAgkECAEFAwUEAAIECQcECgcGCgQFCgUJBQAGBAcCBwkJBQMDBgcFCAoHAAoHBgYDCQEIBAgFBQUBBgEFBAMHAwAAAwYFBwkCAwcKAAIFAQACCgQJAQYGBgYACQAEAwQDAgUICAkEAgcDBAMDAwMDAQUBBAMGBQQEAQMAAgYCAQIIAgQGBgIEAAkKCAA=",
          "dtype": "i1"
         },
         "yaxis": "y"
        }
       ],
       "layout": {
        "legend": {
         "title": {
          "text": "Has_Hypertension"
         },
         "tracegroupgap": 0
        },
        "template": {
         "data": {
          "bar": [
           {
            "error_x": {
             "color": "#2a3f5f"
            },
            "error_y": {
             "color": "#2a3f5f"
            },
            "marker": {
             "line": {
              "color": "#E5ECF6",
              "width": 0.5
             },
             "pattern": {
              "fillmode": "overlay",
              "size": 10,
              "solidity": 0.2
             }
            },
            "type": "bar"
           }
          ],
          "barpolar": [
           {
            "marker": {
             "line": {
              "color": "#E5ECF6",
              "width": 0.5
             },
             "pattern": {
              "fillmode": "overlay",
              "size": 10,
              "solidity": 0.2
             }
            },
            "type": "barpolar"
           }
          ],
          "carpet": [
           {
            "aaxis": {
             "endlinecolor": "#2a3f5f",
             "gridcolor": "white",
             "linecolor": "white",
             "minorgridcolor": "white",
             "startlinecolor": "#2a3f5f"
            },
            "baxis": {
             "endlinecolor": "#2a3f5f",
             "gridcolor": "white",
             "linecolor": "white",
             "minorgridcolor": "white",
             "startlinecolor": "#2a3f5f"
            },
            "type": "carpet"
           }
          ],
          "choropleth": [
           {
            "colorbar": {
             "outlinewidth": 0,
             "ticks": ""
            },
            "type": "choropleth"
           }
          ],
          "contour": [
           {
            "colorbar": {
             "outlinewidth": 0,
             "ticks": ""
            },
            "colorscale": [
             [
              0,
              "#0d0887"
             ],
             [
              0.1111111111111111,
              "#46039f"
             ],
             [
              0.2222222222222222,
              "#7201a8"
             ],
             [
              0.3333333333333333,
              "#9c179e"
             ],
             [
              0.4444444444444444,
              "#bd3786"
             ],
             [
              0.5555555555555556,
              "#d8576b"
             ],
             [
              0.6666666666666666,
              "#ed7953"
             ],
             [
              0.7777777777777778,
              "#fb9f3a"
             ],
             [
              0.8888888888888888,
              "#fdca26"
             ],
             [
              1,
              "#f0f921"
             ]
            ],
            "type": "contour"
           }
          ],
          "contourcarpet": [
           {
            "colorbar": {
             "outlinewidth": 0,
             "ticks": ""
            },
            "type": "contourcarpet"
           }
          ],
          "heatmap": [
           {
            "colorbar": {
             "outlinewidth": 0,
             "ticks": ""
            },
            "colorscale": [
             [
              0,
              "#0d0887"
             ],
             [
              0.1111111111111111,
              "#46039f"
             ],
             [
              0.2222222222222222,
              "#7201a8"
             ],
             [
              0.3333333333333333,
              "#9c179e"
             ],
             [
              0.4444444444444444,
              "#bd3786"
             ],
             [
              0.5555555555555556,
              "#d8576b"
             ],
             [
              0.6666666666666666,
              "#ed7953"
             ],
             [
              0.7777777777777778,
              "#fb9f3a"
             ],
             [
              0.8888888888888888,
              "#fdca26"
             ],
             [
              1,
              "#f0f921"
             ]
            ],
            "type": "heatmap"
           }
          ],
          "histogram": [
           {
            "marker": {
             "pattern": {
              "fillmode": "overlay",
              "size": 10,
              "solidity": 0.2
             }
            },
            "type": "histogram"
           }
          ],
          "histogram2d": [
           {
            "colorbar": {
             "outlinewidth": 0,
             "ticks": ""
            },
            "colorscale": [
             [
              0,
              "#0d0887"
             ],
             [
              0.1111111111111111,
              "#46039f"
             ],
             [
              0.2222222222222222,
              "#7201a8"
             ],
             [
              0.3333333333333333,
              "#9c179e"
             ],
             [
              0.4444444444444444,
              "#bd3786"
             ],
             [
              0.5555555555555556,
              "#d8576b"
             ],
             [
              0.6666666666666666,
              "#ed7953"
             ],
             [
              0.7777777777777778,
              "#fb9f3a"
             ],
             [
              0.8888888888888888,
              "#fdca26"
             ],
             [
              1,
              "#f0f921"
             ]
            ],
            "type": "histogram2d"
           }
          ],
          "histogram2dcontour": [
           {
            "colorbar": {
             "outlinewidth": 0,
             "ticks": ""
            },
            "colorscale": [
             [
              0,
              "#0d0887"
             ],
             [
              0.1111111111111111,
              "#46039f"
             ],
             [
              0.2222222222222222,
              "#7201a8"
             ],
             [
              0.3333333333333333,
              "#9c179e"
             ],
             [
              0.4444444444444444,
              "#bd3786"
             ],
             [
              0.5555555555555556,
              "#d8576b"
             ],
             [
              0.6666666666666666,
              "#ed7953"
             ],
             [
              0.7777777777777778,
              "#fb9f3a"
             ],
             [
              0.8888888888888888,
              "#fdca26"
             ],
             [
              1,
              "#f0f921"
             ]
            ],
            "type": "histogram2dcontour"
           }
          ],
          "mesh3d": [
           {
            "colorbar": {
             "outlinewidth": 0,
             "ticks": ""
            },
            "type": "mesh3d"
           }
          ],
          "parcoords": [
           {
            "line": {
             "colorbar": {
              "outlinewidth": 0,
              "ticks": ""
             }
            },
            "type": "parcoords"
           }
          ],
          "pie": [
           {
            "automargin": true,
            "type": "pie"
           }
          ],
          "scatter": [
           {
            "fillpattern": {
             "fillmode": "overlay",
             "size": 10,
             "solidity": 0.2
            },
            "type": "scatter"
           }
          ],
          "scatter3d": [
           {
            "line": {
             "colorbar": {
              "outlinewidth": 0,
              "ticks": ""
             }
            },
            "marker": {
             "colorbar": {
              "outlinewidth": 0,
              "ticks": ""
             }
            },
            "type": "scatter3d"
           }
          ],
          "scattercarpet": [
           {
            "marker": {
             "colorbar": {
              "outlinewidth": 0,
              "ticks": ""
             }
            },
            "type": "scattercarpet"
           }
          ],
          "scattergeo": [
           {
            "marker": {
             "colorbar": {
              "outlinewidth": 0,
              "ticks": ""
             }
            },
            "type": "scattergeo"
           }
          ],
          "scattergl": [
           {
            "marker": {
             "colorbar": {
              "outlinewidth": 0,
              "ticks": ""
             }
            },
            "type": "scattergl"
           }
          ],
          "scattermap": [
           {
            "marker": {
             "colorbar": {
              "outlinewidth": 0,
              "ticks": ""
             }
            },
            "type": "scattermap"
           }
          ],
          "scattermapbox": [
           {
            "marker": {
             "colorbar": {
              "outlinewidth": 0,
              "ticks": ""
             }
            },
            "type": "scattermapbox"
           }
          ],
          "scatterpolar": [
           {
            "marker": {
             "colorbar": {
              "outlinewidth": 0,
              "ticks": ""
             }
            },
            "type": "scatterpolar"
           }
          ],
          "scatterpolargl": [
           {
            "marker": {
             "colorbar": {
              "outlinewidth": 0,
              "ticks": ""
             }
            },
            "type": "scatterpolargl"
           }
          ],
          "scatterternary": [
           {
            "marker": {
             "colorbar": {
              "outlinewidth": 0,
              "ticks": ""
             }
            },
            "type": "scatterternary"
           }
          ],
          "surface": [
           {
            "colorbar": {
             "outlinewidth": 0,
             "ticks": ""
            },
            "colorscale": [
             [
              0,
              "#0d0887"
             ],
             [
              0.1111111111111111,
              "#46039f"
             ],
             [
              0.2222222222222222,
              "#7201a8"
             ],
             [
              0.3333333333333333,
              "#9c179e"
             ],
             [
              0.4444444444444444,
              "#bd3786"
             ],
             [
              0.5555555555555556,
              "#d8576b"
             ],
             [
              0.6666666666666666,
              "#ed7953"
             ],
             [
              0.7777777777777778,
              "#fb9f3a"
             ],
             [
              0.8888888888888888,
              "#fdca26"
             ],
             [
              1,
              "#f0f921"
             ]
            ],
            "type": "surface"
           }
          ],
          "table": [
           {
            "cells": {
             "fill": {
              "color": "#EBF0F8"
             },
             "line": {
              "color": "white"
             }
            },
            "header": {
             "fill": {
              "color": "#C8D4E3"
             },
             "line": {
              "color": "white"
             }
            },
            "type": "table"
           }
          ]
         },
         "layout": {
          "annotationdefaults": {
           "arrowcolor": "#2a3f5f",
           "arrowhead": 0,
           "arrowwidth": 1
          },
          "autotypenumbers": "strict",
          "coloraxis": {
           "colorbar": {
            "outlinewidth": 0,
            "ticks": ""
           }
          },
          "colorscale": {
           "diverging": [
            [
             0,
             "#8e0152"
            ],
            [
             0.1,
             "#c51b7d"
            ],
            [
             0.2,
             "#de77ae"
            ],
            [
             0.3,
             "#f1b6da"
            ],
            [
             0.4,
             "#fde0ef"
            ],
            [
             0.5,
             "#f7f7f7"
            ],
            [
             0.6,
             "#e6f5d0"
            ],
            [
             0.7,
             "#b8e186"
            ],
            [
             0.8,
             "#7fbc41"
            ],
            [
             0.9,
             "#4d9221"
            ],
            [
             1,
             "#276419"
            ]
           ],
           "sequential": [
            [
             0,
             "#0d0887"
            ],
            [
             0.1111111111111111,
             "#46039f"
            ],
            [
             0.2222222222222222,
             "#7201a8"
            ],
            [
             0.3333333333333333,
             "#9c179e"
            ],
            [
             0.4444444444444444,
             "#bd3786"
            ],
            [
             0.5555555555555556,
             "#d8576b"
            ],
            [
             0.6666666666666666,
             "#ed7953"
            ],
            [
             0.7777777777777778,
             "#fb9f3a"
            ],
            [
             0.8888888888888888,
             "#fdca26"
            ],
            [
             1,
             "#f0f921"
            ]
           ],
           "sequentialminus": [
            [
             0,
             "#0d0887"
            ],
            [
             0.1111111111111111,
             "#46039f"
            ],
            [
             0.2222222222222222,
             "#7201a8"
            ],
            [
             0.3333333333333333,
             "#9c179e"
            ],
            [
             0.4444444444444444,
             "#bd3786"
            ],
            [
             0.5555555555555556,
             "#d8576b"
            ],
            [
             0.6666666666666666,
             "#ed7953"
            ],
            [
             0.7777777777777778,
             "#fb9f3a"
            ],
            [
             0.8888888888888888,
             "#fdca26"
            ],
            [
             1,
             "#f0f921"
            ]
           ]
          },
          "colorway": [
           "#636efa",
           "#EF553B",
           "#00cc96",
           "#ab63fa",
           "#FFA15A",
           "#19d3f3",
           "#FF6692",
           "#B6E880",
           "#FF97FF",
           "#FECB52"
          ],
          "font": {
           "color": "#2a3f5f"
          },
          "geo": {
           "bgcolor": "white",
           "lakecolor": "white",
           "landcolor": "#E5ECF6",
           "showlakes": true,
           "showland": true,
           "subunitcolor": "white"
          },
          "hoverlabel": {
           "align": "left"
          },
          "hovermode": "closest",
          "mapbox": {
           "style": "light"
          },
          "paper_bgcolor": "white",
          "plot_bgcolor": "#E5ECF6",
          "polar": {
           "angularaxis": {
            "gridcolor": "white",
            "linecolor": "white",
            "ticks": ""
           },
           "bgcolor": "#E5ECF6",
           "radialaxis": {
            "gridcolor": "white",
            "linecolor": "white",
            "ticks": ""
           }
          },
          "scene": {
           "xaxis": {
            "backgroundcolor": "#E5ECF6",
            "gridcolor": "white",
            "gridwidth": 2,
            "linecolor": "white",
            "showbackground": true,
            "ticks": "",
            "zerolinecolor": "white"
           },
           "yaxis": {
            "backgroundcolor": "#E5ECF6",
            "gridcolor": "white",
            "gridwidth": 2,
            "linecolor": "white",
            "showbackground": true,
            "ticks": "",
            "zerolinecolor": "white"
           },
           "zaxis": {
            "backgroundcolor": "#E5ECF6",
            "gridcolor": "white",
            "gridwidth": 2,
            "linecolor": "white",
            "showbackground": true,
            "ticks": "",
            "zerolinecolor": "white"
           }
          },
          "shapedefaults": {
           "line": {
            "color": "#2a3f5f"
           }
          },
          "ternary": {
           "aaxis": {
            "gridcolor": "white",
            "linecolor": "white",
            "ticks": ""
           },
           "baxis": {
            "gridcolor": "white",
            "linecolor": "white",
            "ticks": ""
           },
           "bgcolor": "#E5ECF6",
           "caxis": {
            "gridcolor": "white",
            "linecolor": "white",
            "ticks": ""
           }
          },
          "title": {
           "x": 0.05
          },
          "xaxis": {
           "automargin": true,
           "gridcolor": "white",
           "linecolor": "white",
           "ticks": "",
           "title": {
            "standoff": 15
           },
           "zerolinecolor": "white",
           "zerolinewidth": 2
          },
          "yaxis": {
           "automargin": true,
           "gridcolor": "white",
           "linecolor": "white",
           "ticks": "",
           "title": {
            "standoff": 15
           },
           "zerolinecolor": "white",
           "zerolinewidth": 2
          }
         }
        },
        "title": {
         "text": "Sleep Duration vs Stress Score"
        },
        "xaxis": {
         "anchor": "y",
         "domain": [
          0,
          1
         ],
         "title": {
          "text": "Sleep_Duration"
         }
        },
        "yaxis": {
         "anchor": "x",
         "domain": [
          0,
          1
         ],
         "title": {
          "text": "Stress_Score"
         }
        }
       }
      }
     },
     "metadata": {},
     "output_type": "display_data"
    }
   ],
   "source": [
    "fig = px.scatter(df, x=\"Sleep_Duration\", y=\"Stress_Score\", color=\"Has_Hypertension\",\n",
    "                 title=\"Sleep Duration vs Stress Score\")\n",
    "fig.show()\n"
   ]
  },
  {
   "cell_type": "code",
   "execution_count": 33,
   "id": "d4633953",
   "metadata": {},
   "outputs": [
    {
     "data": {
      "application/vnd.plotly.v1+json": {
       "config": {
        "plotlyServerURL": "https://plot.ly"
       },
       "data": [
        {
         "alignmentgroup": "True",
         "hovertemplate": "variable=Yes<br>Exercise_Level=%{x}<br>value=%{y}<extra></extra>",
         "legendgroup": "Yes",
         "marker": {
          "color": "#636efa",
          "pattern": {
           "shape": ""
          }
         },
         "name": "Yes",
         "offsetgroup": "Yes",
         "orientation": "v",
         "showlegend": true,
         "textposition": "auto",
         "type": "bar",
         "x": [
          "High",
          "Low",
          "Moderate"
         ],
         "xaxis": "x",
         "y": {
          "bdata": "1QDYAVsB",
          "dtype": "i2"
         },
         "yaxis": "y"
        },
        {
         "alignmentgroup": "True",
         "hovertemplate": "variable=No<br>Exercise_Level=%{x}<br>value=%{y}<extra></extra>",
         "legendgroup": "No",
         "marker": {
          "color": "#EF553B",
          "pattern": {
           "shape": ""
          }
         },
         "name": "No",
         "offsetgroup": "No",
         "orientation": "v",
         "showlegend": true,
         "textposition": "auto",
         "type": "bar",
         "x": [
          "High",
          "Low",
          "Moderate"
         ],
         "xaxis": "x",
         "y": {
          "bdata": "sgDQATcB",
          "dtype": "i2"
         },
         "yaxis": "y"
        }
       ],
       "layout": {
        "barmode": "group",
        "legend": {
         "title": {
          "text": "variable"
         },
         "tracegroupgap": 0
        },
        "template": {
         "data": {
          "bar": [
           {
            "error_x": {
             "color": "#2a3f5f"
            },
            "error_y": {
             "color": "#2a3f5f"
            },
            "marker": {
             "line": {
              "color": "#E5ECF6",
              "width": 0.5
             },
             "pattern": {
              "fillmode": "overlay",
              "size": 10,
              "solidity": 0.2
             }
            },
            "type": "bar"
           }
          ],
          "barpolar": [
           {
            "marker": {
             "line": {
              "color": "#E5ECF6",
              "width": 0.5
             },
             "pattern": {
              "fillmode": "overlay",
              "size": 10,
              "solidity": 0.2
             }
            },
            "type": "barpolar"
           }
          ],
          "carpet": [
           {
            "aaxis": {
             "endlinecolor": "#2a3f5f",
             "gridcolor": "white",
             "linecolor": "white",
             "minorgridcolor": "white",
             "startlinecolor": "#2a3f5f"
            },
            "baxis": {
             "endlinecolor": "#2a3f5f",
             "gridcolor": "white",
             "linecolor": "white",
             "minorgridcolor": "white",
             "startlinecolor": "#2a3f5f"
            },
            "type": "carpet"
           }
          ],
          "choropleth": [
           {
            "colorbar": {
             "outlinewidth": 0,
             "ticks": ""
            },
            "type": "choropleth"
           }
          ],
          "contour": [
           {
            "colorbar": {
             "outlinewidth": 0,
             "ticks": ""
            },
            "colorscale": [
             [
              0,
              "#0d0887"
             ],
             [
              0.1111111111111111,
              "#46039f"
             ],
             [
              0.2222222222222222,
              "#7201a8"
             ],
             [
              0.3333333333333333,
              "#9c179e"
             ],
             [
              0.4444444444444444,
              "#bd3786"
             ],
             [
              0.5555555555555556,
              "#d8576b"
             ],
             [
              0.6666666666666666,
              "#ed7953"
             ],
             [
              0.7777777777777778,
              "#fb9f3a"
             ],
             [
              0.8888888888888888,
              "#fdca26"
             ],
             [
              1,
              "#f0f921"
             ]
            ],
            "type": "contour"
           }
          ],
          "contourcarpet": [
           {
            "colorbar": {
             "outlinewidth": 0,
             "ticks": ""
            },
            "type": "contourcarpet"
           }
          ],
          "heatmap": [
           {
            "colorbar": {
             "outlinewidth": 0,
             "ticks": ""
            },
            "colorscale": [
             [
              0,
              "#0d0887"
             ],
             [
              0.1111111111111111,
              "#46039f"
             ],
             [
              0.2222222222222222,
              "#7201a8"
             ],
             [
              0.3333333333333333,
              "#9c179e"
             ],
             [
              0.4444444444444444,
              "#bd3786"
             ],
             [
              0.5555555555555556,
              "#d8576b"
             ],
             [
              0.6666666666666666,
              "#ed7953"
             ],
             [
              0.7777777777777778,
              "#fb9f3a"
             ],
             [
              0.8888888888888888,
              "#fdca26"
             ],
             [
              1,
              "#f0f921"
             ]
            ],
            "type": "heatmap"
           }
          ],
          "histogram": [
           {
            "marker": {
             "pattern": {
              "fillmode": "overlay",
              "size": 10,
              "solidity": 0.2
             }
            },
            "type": "histogram"
           }
          ],
          "histogram2d": [
           {
            "colorbar": {
             "outlinewidth": 0,
             "ticks": ""
            },
            "colorscale": [
             [
              0,
              "#0d0887"
             ],
             [
              0.1111111111111111,
              "#46039f"
             ],
             [
              0.2222222222222222,
              "#7201a8"
             ],
             [
              0.3333333333333333,
              "#9c179e"
             ],
             [
              0.4444444444444444,
              "#bd3786"
             ],
             [
              0.5555555555555556,
              "#d8576b"
             ],
             [
              0.6666666666666666,
              "#ed7953"
             ],
             [
              0.7777777777777778,
              "#fb9f3a"
             ],
             [
              0.8888888888888888,
              "#fdca26"
             ],
             [
              1,
              "#f0f921"
             ]
            ],
            "type": "histogram2d"
           }
          ],
          "histogram2dcontour": [
           {
            "colorbar": {
             "outlinewidth": 0,
             "ticks": ""
            },
            "colorscale": [
             [
              0,
              "#0d0887"
             ],
             [
              0.1111111111111111,
              "#46039f"
             ],
             [
              0.2222222222222222,
              "#7201a8"
             ],
             [
              0.3333333333333333,
              "#9c179e"
             ],
             [
              0.4444444444444444,
              "#bd3786"
             ],
             [
              0.5555555555555556,
              "#d8576b"
             ],
             [
              0.6666666666666666,
              "#ed7953"
             ],
             [
              0.7777777777777778,
              "#fb9f3a"
             ],
             [
              0.8888888888888888,
              "#fdca26"
             ],
             [
              1,
              "#f0f921"
             ]
            ],
            "type": "histogram2dcontour"
           }
          ],
          "mesh3d": [
           {
            "colorbar": {
             "outlinewidth": 0,
             "ticks": ""
            },
            "type": "mesh3d"
           }
          ],
          "parcoords": [
           {
            "line": {
             "colorbar": {
              "outlinewidth": 0,
              "ticks": ""
             }
            },
            "type": "parcoords"
           }
          ],
          "pie": [
           {
            "automargin": true,
            "type": "pie"
           }
          ],
          "scatter": [
           {
            "fillpattern": {
             "fillmode": "overlay",
             "size": 10,
             "solidity": 0.2
            },
            "type": "scatter"
           }
          ],
          "scatter3d": [
           {
            "line": {
             "colorbar": {
              "outlinewidth": 0,
              "ticks": ""
             }
            },
            "marker": {
             "colorbar": {
              "outlinewidth": 0,
              "ticks": ""
             }
            },
            "type": "scatter3d"
           }
          ],
          "scattercarpet": [
           {
            "marker": {
             "colorbar": {
              "outlinewidth": 0,
              "ticks": ""
             }
            },
            "type": "scattercarpet"
           }
          ],
          "scattergeo": [
           {
            "marker": {
             "colorbar": {
              "outlinewidth": 0,
              "ticks": ""
             }
            },
            "type": "scattergeo"
           }
          ],
          "scattergl": [
           {
            "marker": {
             "colorbar": {
              "outlinewidth": 0,
              "ticks": ""
             }
            },
            "type": "scattergl"
           }
          ],
          "scattermap": [
           {
            "marker": {
             "colorbar": {
              "outlinewidth": 0,
              "ticks": ""
             }
            },
            "type": "scattermap"
           }
          ],
          "scattermapbox": [
           {
            "marker": {
             "colorbar": {
              "outlinewidth": 0,
              "ticks": ""
             }
            },
            "type": "scattermapbox"
           }
          ],
          "scatterpolar": [
           {
            "marker": {
             "colorbar": {
              "outlinewidth": 0,
              "ticks": ""
             }
            },
            "type": "scatterpolar"
           }
          ],
          "scatterpolargl": [
           {
            "marker": {
             "colorbar": {
              "outlinewidth": 0,
              "ticks": ""
             }
            },
            "type": "scatterpolargl"
           }
          ],
          "scatterternary": [
           {
            "marker": {
             "colorbar": {
              "outlinewidth": 0,
              "ticks": ""
             }
            },
            "type": "scatterternary"
           }
          ],
          "surface": [
           {
            "colorbar": {
             "outlinewidth": 0,
             "ticks": ""
            },
            "colorscale": [
             [
              0,
              "#0d0887"
             ],
             [
              0.1111111111111111,
              "#46039f"
             ],
             [
              0.2222222222222222,
              "#7201a8"
             ],
             [
              0.3333333333333333,
              "#9c179e"
             ],
             [
              0.4444444444444444,
              "#bd3786"
             ],
             [
              0.5555555555555556,
              "#d8576b"
             ],
             [
              0.6666666666666666,
              "#ed7953"
             ],
             [
              0.7777777777777778,
              "#fb9f3a"
             ],
             [
              0.8888888888888888,
              "#fdca26"
             ],
             [
              1,
              "#f0f921"
             ]
            ],
            "type": "surface"
           }
          ],
          "table": [
           {
            "cells": {
             "fill": {
              "color": "#EBF0F8"
             },
             "line": {
              "color": "white"
             }
            },
            "header": {
             "fill": {
              "color": "#C8D4E3"
             },
             "line": {
              "color": "white"
             }
            },
            "type": "table"
           }
          ]
         },
         "layout": {
          "annotationdefaults": {
           "arrowcolor": "#2a3f5f",
           "arrowhead": 0,
           "arrowwidth": 1
          },
          "autotypenumbers": "strict",
          "coloraxis": {
           "colorbar": {
            "outlinewidth": 0,
            "ticks": ""
           }
          },
          "colorscale": {
           "diverging": [
            [
             0,
             "#8e0152"
            ],
            [
             0.1,
             "#c51b7d"
            ],
            [
             0.2,
             "#de77ae"
            ],
            [
             0.3,
             "#f1b6da"
            ],
            [
             0.4,
             "#fde0ef"
            ],
            [
             0.5,
             "#f7f7f7"
            ],
            [
             0.6,
             "#e6f5d0"
            ],
            [
             0.7,
             "#b8e186"
            ],
            [
             0.8,
             "#7fbc41"
            ],
            [
             0.9,
             "#4d9221"
            ],
            [
             1,
             "#276419"
            ]
           ],
           "sequential": [
            [
             0,
             "#0d0887"
            ],
            [
             0.1111111111111111,
             "#46039f"
            ],
            [
             0.2222222222222222,
             "#7201a8"
            ],
            [
             0.3333333333333333,
             "#9c179e"
            ],
            [
             0.4444444444444444,
             "#bd3786"
            ],
            [
             0.5555555555555556,
             "#d8576b"
            ],
            [
             0.6666666666666666,
             "#ed7953"
            ],
            [
             0.7777777777777778,
             "#fb9f3a"
            ],
            [
             0.8888888888888888,
             "#fdca26"
            ],
            [
             1,
             "#f0f921"
            ]
           ],
           "sequentialminus": [
            [
             0,
             "#0d0887"
            ],
            [
             0.1111111111111111,
             "#46039f"
            ],
            [
             0.2222222222222222,
             "#7201a8"
            ],
            [
             0.3333333333333333,
             "#9c179e"
            ],
            [
             0.4444444444444444,
             "#bd3786"
            ],
            [
             0.5555555555555556,
             "#d8576b"
            ],
            [
             0.6666666666666666,
             "#ed7953"
            ],
            [
             0.7777777777777778,
             "#fb9f3a"
            ],
            [
             0.8888888888888888,
             "#fdca26"
            ],
            [
             1,
             "#f0f921"
            ]
           ]
          },
          "colorway": [
           "#636efa",
           "#EF553B",
           "#00cc96",
           "#ab63fa",
           "#FFA15A",
           "#19d3f3",
           "#FF6692",
           "#B6E880",
           "#FF97FF",
           "#FECB52"
          ],
          "font": {
           "color": "#2a3f5f"
          },
          "geo": {
           "bgcolor": "white",
           "lakecolor": "white",
           "landcolor": "#E5ECF6",
           "showlakes": true,
           "showland": true,
           "subunitcolor": "white"
          },
          "hoverlabel": {
           "align": "left"
          },
          "hovermode": "closest",
          "mapbox": {
           "style": "light"
          },
          "paper_bgcolor": "white",
          "plot_bgcolor": "#E5ECF6",
          "polar": {
           "angularaxis": {
            "gridcolor": "white",
            "linecolor": "white",
            "ticks": ""
           },
           "bgcolor": "#E5ECF6",
           "radialaxis": {
            "gridcolor": "white",
            "linecolor": "white",
            "ticks": ""
           }
          },
          "scene": {
           "xaxis": {
            "backgroundcolor": "#E5ECF6",
            "gridcolor": "white",
            "gridwidth": 2,
            "linecolor": "white",
            "showbackground": true,
            "ticks": "",
            "zerolinecolor": "white"
           },
           "yaxis": {
            "backgroundcolor": "#E5ECF6",
            "gridcolor": "white",
            "gridwidth": 2,
            "linecolor": "white",
            "showbackground": true,
            "ticks": "",
            "zerolinecolor": "white"
           },
           "zaxis": {
            "backgroundcolor": "#E5ECF6",
            "gridcolor": "white",
            "gridwidth": 2,
            "linecolor": "white",
            "showbackground": true,
            "ticks": "",
            "zerolinecolor": "white"
           }
          },
          "shapedefaults": {
           "line": {
            "color": "#2a3f5f"
           }
          },
          "ternary": {
           "aaxis": {
            "gridcolor": "white",
            "linecolor": "white",
            "ticks": ""
           },
           "baxis": {
            "gridcolor": "white",
            "linecolor": "white",
            "ticks": ""
           },
           "bgcolor": "#E5ECF6",
           "caxis": {
            "gridcolor": "white",
            "linecolor": "white",
            "ticks": ""
           }
          },
          "title": {
           "x": 0.05
          },
          "xaxis": {
           "automargin": true,
           "gridcolor": "white",
           "linecolor": "white",
           "ticks": "",
           "title": {
            "standoff": 15
           },
           "zerolinecolor": "white",
           "zerolinewidth": 2
          },
          "yaxis": {
           "automargin": true,
           "gridcolor": "white",
           "linecolor": "white",
           "ticks": "",
           "title": {
            "standoff": 15
           },
           "zerolinecolor": "white",
           "zerolinewidth": 2
          }
         }
        },
        "title": {
         "text": "Hypertension by Exercise Level"
        },
        "xaxis": {
         "anchor": "y",
         "domain": [
          0,
          1
         ],
         "title": {
          "text": "Exercise_Level"
         }
        },
        "yaxis": {
         "anchor": "x",
         "domain": [
          0,
          1
         ],
         "title": {
          "text": "value"
         }
        }
       }
      }
     },
     "metadata": {},
     "output_type": "display_data"
    }
   ],
   "source": [
    "exercise_htn = df.groupby(\"Exercise_Level\")[\"Has_Hypertension\"].value_counts().unstack().fillna(0)\n",
    "exercise_htn = exercise_htn.reset_index()\n",
    "fig = px.bar(exercise_htn, x=\"Exercise_Level\", y=[\"Yes\", \"No\"], barmode=\"group\",\n",
    "             title=\"Hypertension by Exercise Level\")\n",
    "fig.show()\n"
   ]
  },
  {
   "cell_type": "code",
   "execution_count": 34,
   "id": "d9a03d7b",
   "metadata": {},
   "outputs": [
    {
     "data": {
      "application/vnd.plotly.v1+json": {
       "config": {
        "plotlyServerURL": "https://plot.ly"
       },
       "data": [
        {
         "customdata": {
          "bdata": "AAAAAAAAIECamZmZmZkZQAAAAAAAACRAzczMzMzMEECamZmZmZklQM3MzMzMzBRAmpmZmZmZF0DNzMzMzMwcQJqZmZmZmSJAzczMzMzMEkAAAAAAAAAmQM3MzMzMzCBAAAAAAAAAIUAzMzMzMzMRQM3MzMzMzCdAMzMzMzMzFUAzMzMzMzMjQGZmZmZmZiJAAAAAAAAAFEAAAAAAAAAUQJqZmZmZmSJAzczMzMzMEkAzMzMzMzMmQGZmZmZmZhJAmpmZmZmZI0AAAAAAAAAaQGZmZmZmZiBAAAAAAAAAGkBmZmZmZmYYQGZmZmZmZgJAMzMzMzMzIEBmZmZmZmYgQDMzMzMzMxtAZmZmZmZmCkBmZmZmZmYjQAAAAAAAACFAmpmZmZmZIkAAAAAAAAAYQGZmZmZmZhhAmpmZmZmZEUAzMzMzMzMdQDMzMzMzMxdAAAAAAAAAIUCamZmZmZkVQJqZmZmZmSBAzczMzMzMFkCamZmZmZkiQDMzMzMzMxdAZmZmZmZmHkAzMzMzMzMRQDMzMzMzMx9AAAAAAAAAEEAAAAAAAAAoQM3MzMzMzBpAzczMzMzMHkDNzMzMzMwMQM3MzMzMzCFAMzMzMzMzH0DNzMzMzMwkQAAAAAAAABJAmpmZmZmZFUAzMzMzMzMiQJqZmZmZmR1AzczMzMzMDEAzMzMzMzMrQAAAAAAAABJAmpmZmZmZHUCamZmZmZkXQM3MzMzMzCFAzczMzMzMI0AzMzMzMzMnQGZmZmZmZhRAAAAAAAAAJUAzMzMzMzMgQDMzMzMzMyRAMzMzMzMzGUBmZmZmZmYgQGZmZmZmZhxAZmZmZmZmHkCamZmZmZkTQM3MzMzMzCNAAAAAAAAAGkDNzMzMzMwkQAAAAAAAACBAZmZmZmZmIUAAAAAAAAAeQAAAAAAAACdAmpmZmZmZGUDNzMzMzMwYQJqZmZmZmQ1AmpmZmZmZIECamZmZmZkXQAAAAAAAACdAAAAAAAAAIECamZmZmZkjQGZmZmZmZhJAZmZmZmZmKEBmZmZmZmYaQM3MzMzMzCVAAAAAAAAAIEBmZmZmZmYjQDMzMzMzMyNAAAAAAAAAIECamZmZmZkdQDMzMzMzMx9AzczMzMzMEkBmZmZmZmYlQGZmZmZmZiNAmpmZmZmZKECamZmZmZkNQAAAAAAAAB5AMzMzMzMzHUAzMzMzMzMZQGZmZmZmZhBAmpmZmZmZIUBmZmZmZmYUQAAAAAAAABRAmpmZmZmZE0BmZmZmZmYgQDMzMzMzMyFAZmZmZmZmHkAAAAAAAAAaQAAAAAAAACNAmpmZmZmZAUDNzMzMzMwYQM3MzMzMzB5AZmZmZmZmBkAzMzMzMzMPQAAAAAAAAChAMzMzMzMzG0CamZmZmZknQJqZmZmZmR9AZmZmZmZmHkCamZmZmZkVQDMzMzMzMx1AzczMzMzMFEAAAAAAAAAaQM3MzMzMzCBAAAAAAAAAJEAAAAAAAAAaQDMzMzMzMxtAZmZmZmZmIkCamZmZmZkkQDMzMzMzMx1AmpmZmZmZG0AAAAAAAAAeQAAAAAAAACdAMzMzMzMzF0AAAAAAAAAhQM3MzMzMzBxAmpmZmZmZJEAzMzMzMzMdQJqZmZmZmR9AzczMzMzMEkAzMzMzMzMhQM3MzMzMzBRAmpmZmZmZFUCamZmZmZkTQAAAAAAAABhAmpmZmZmZCUAzMzMzMzMiQJqZmZmZmRdAMzMzMzMzFUCamZmZmZkTQJqZmZmZmSVAAAAAAAAAHEDNzMzMzMwhQM3MzMzMzBpAmpmZmZmZJUDNzMzMzMwaQAAAAAAAABpAAAAAAAAAFkDNzMzMzMwjQGZmZmZmZhhAzczMzMzMIUCamZmZmZkbQGZmZmZmZiFAMzMzMzMzJECamZmZmZkFQJqZmZmZmRlAzczMzMzMIkAzMzMzMzMXQGZmZmZmZiNAmpmZmZmZH0AzMzMzMzMpQM3MzMzMzB5AZmZmZmZmJkAAAAAAAAAeQM3MzMzMzBxAAAAAAAAAFECamZmZmZkbQAAAAAAAABhAAAAAAAAAHkAzMzMzMzMRQGZmZmZmZhpAAAAAAAAAHkBmZmZmZmYhQAAAAAAAAB5AmpmZmZmZJEBmZmZmZmYUQJqZmZmZmSBAmpmZmZmZFUAzMzMzMzMgQAAAAAAAABhAzczMzMzMLUDNzMzMzMwUQJqZmZmZmSVAAAAAAAAAHECamZmZmZkkQJqZmZmZmRtAzczMzMzMHEDNzMzMzMwaQDMzMzMzMyFAmpmZmZmZE0BmZmZmZmYkQDMzMzMzMyNAMzMzMzMzG0AAAAAAAAAeQDMzMzMzMyVAMzMzMzMzGUAzMzMzMzMfQJqZmZmZmSFAzczMzMzMHkAzMzMzMzMVQGZmZmZmZhpAmpmZmZmZI0AzMzMzMzMpQAAAAAAAACBAmpmZmZmZGUBmZmZmZmYcQAAAAAAAACFAzczMzMzMHECamZmZmZkmQJqZmZmZmRFAmpmZmZmZIEAzMzMzMzMXQM3MzMzMzCJAmpmZmZmZIEDNzMzMzMwiQM3MzMzMzBpAMzMzMzMzIEDNzMzMzMwQQAAAAAAAACVAzczMzMzMFkDNzMzMzMwlQGZmZmZmZiBAZmZmZmZmK0BmZmZmZmYSQGZmZmZmZiJAMzMzMzMzG0DNzMzMzMwhQGZmZmZmZhhAMzMzMzMzJkCamZmZmZkXQAAAAAAAABpAZmZmZmZmIkCamZmZmZklQJqZmZmZmRtAMzMzMzMzJkBmZmZmZmYWQDMzMzMzMyZAmpmZmZmZE0AAAAAAAAAaQGZmZmZmZhBAAAAAAAAAHkAzMzMzMzMjQAAAAAAAACBAAAAAAAAAGEAzMzMzMzMfQGZmZmZmZhZAzczMzMzMHkDNzMzMzMwMQJqZmZmZmR9AzczMzMzMIUAAAAAAAAAnQJqZmZmZmR9AZmZmZmZmHkCamZmZmZkdQJqZmZmZmSJAmpmZmZmZEUAAAAAAAAAhQGZmZmZmZg5AzczMzMzMGkCamZmZmZkgQDMzMzMzMyJAAAAAAAAADEBmZmZmZmYYQDMzMzMzMxlAzczMzMzMJUCamZmZmZkXQM3MzMzMzCFAAAAAAAAAHEAAAAAAAAAgQGZmZmZmZhxAZmZmZmZmHkAzMzMzMzMjQGZmZmZmZiRAmpmZmZmZEUCamZmZmZkhQGZmZmZmZhxAAAAAAAAAGkAAAAAAAAASQAAAAAAAACNAAAAAAAAAHEDNzMzMzMwhQGZmZmZmZhJAmpmZmZmZI0CamZmZmZkZQJqZmZmZmSJAzczMzMzMIUCamZmZmZkjQDMzMzMzMyJAmpmZmZmZKEAAAAAAAAAgQGZmZmZmZhpAAAAAAAAAFkBmZmZmZmYlQM3MzMzMzBZAmpmZmZmZHUCamZmZmZkbQJqZmZmZmSBAZmZmZmZmEkDNzMzMzMwhQGZmZmZmZh5AzczMzMzMI0CamZmZmZkVQGZmZmZmZh5AAAAAAAAAHEAAAAAAAAAgQGZmZmZmZiFAZmZmZmZmI0AzMzMzMzMZQGZmZmZmZiVAZmZmZmZmGkAzMzMzMzMkQAAAAAAAABZAZmZmZmZmIkAAAAAAAAAYQGZmZmZmZihAmpmZmZmZH0CamZmZmZkfQM3MzMzMzBhAMzMzMzMzJEAzMzMzMzMdQDMzMzMzMxVAMzMzMzMzG0CamZmZmZkZQJqZmZmZmR1AzczMzMzMJEDNzMzMzMwUQM3MzMzMzCdAmpmZmZmZEUCamZmZmZkgQAAAAAAAABBAmpmZmZmZJUAAAAAAAAAIQAAAAAAAACJAMzMzMzMzF0AAAAAAAAAlQDMzMzMzMxlAAAAAAAAAI0BmZmZmZmYWQM3MzMzMzCFAZmZmZmZmIkDNzMzMzMwjQJqZmZmZmRlAAAAAAAAAI0CamZmZmZkRQGZmZmZmZiBAMzMzMzMzFUBmZmZmZmYnQGZmZmZmZhZAMzMzMzMzJkBmZmZmZmYaQJqZmZmZmSdAZmZmZmZmHkAAAAAAAAAkQJqZmZmZmR9AMzMzMzMzFUAAAAAAAAAQQDMzMzMzMxtAzczMzMzMFkCamZmZmZkpQGZmZmZmZhJAMzMzMzMzIEBmZmZmZmYgQGZmZmZmZiFAzczMzMzMEkAzMzMzMzMjQJqZmZmZmR1AMzMzMzMzIUAAAAAAAAAQQM3MzMzMzCdAAAAAAAAAHkDNzMzMzMwhQJqZmZmZmSFAAAAAAAAAHEAzMzMzMzMTQJqZmZmZmRdAzczMzMzMFkAzMzMzMzMdQJqZmZmZmRdAZmZmZmZmHEAAAAAAAAAYQM3MzMzMzBZAAAAAAAAAGEAAAAAAAAAWQAAAAAAAACBAZmZmZmZmFkAzMzMzMzMTQJqZmZmZmR9AmpmZmZmZE0AAAAAAAAAcQJqZmZmZmR1AZmZmZmZmJkBmZmZmZmYYQGZmZmZmZiFAMzMzMzMzC0CamZmZmZkjQJqZmZmZmRtAzczMzMzMIUAAAAAAAAAUQAAAAAAAABxAmpmZmZmZEUCamZmZmZkbQDMzMzMzMyFAZmZmZmZmJUDNzMzMzMwYQJqZmZmZmShAMzMzMzMzG0DNzMzMzMwgQGZmZmZmZiJAmpmZmZmZE0CamZmZmZkgQAAAAAAAACNAMzMzMzMzD0CamZmZmZkkQDMzMzMzMxNAmpmZmZmZJEBmZmZmZmYSQAAAAAAAACBAZmZmZmZmIkBmZmZmZmYcQGZmZmZmZhpAAAAAAAAAGkCamZmZmZkdQGZmZmZmZiFAAAAAAAAAIUAzMzMzMzMgQGZmZmZmZhBAzczMzMzMHECamZmZmZkTQJqZmZmZmSFAzczMzMzMIEAzMzMzMzMZQJqZmZmZmSRAmpmZmZmZJkBmZmZmZmYaQAAAAAAAACFAmpmZmZmZDUDNzMzMzMwjQJqZmZmZmRFAzczMzMzMJEAzMzMzMzMPQGZmZmZmZiJAMzMzMzMzHUBmZmZmZmYhQDMzMzMzMxdAZmZmZmZmIEAAAAAAAAAWQJqZmZmZmR1AMzMzMzMzIEBmZmZmZmYhQM3MzMzMzBhAmpmZmZmZGUDNzMzMzMwcQAAAAAAAACZAMzMzMzMzHUBmZmZmZmYYQGZmZmZmZg5AmpmZmZmZJECamZmZmZn5P83MzMzMzBxAzczMzMzMEECamZmZmZkmQJqZmZmZmSFAMzMzMzMzJEAzMzMzMzMTQDMzMzMzMyRAAAAAAAAAGkAAAAAAAAAUQAAAAAAAABRAMzMzMzMzJkAAAAAAAAAeQDMzMzMzMyVAmpmZmZmZGUCamZmZmZklQDMzMzMzMxlAMzMzMzMzGUDNzMzMzMwaQDMzMzMzMyBAmpmZmZmZIECamZmZmZkfQM3MzMzMzBxAMzMzMzMzJkAAAAAAAAAYQJqZmZmZmSZAAAAAAAAAHkAzMzMzMzMgQAAAAAAAAABAZmZmZmZmFECamZmZmZkTQM3MzMzMzCRAMzMzMzMzHUBmZmZmZmYnQGZmZmZmZhJAMzMzMzMzHUAzMzMzMzMdQDMzMzMzMyJAZmZmZmZmHkBmZmZmZmYeQM3MzMzMzBZAMzMzMzMzI0DNzMzMzMwcQAAAAAAAACFAmpmZmZmZEUBmZmZmZmYeQDMzMzMzMxtAmpmZmZmZIEAzMzMzMzMTQAAAAAAAACBAZmZmZmZmGkBmZmZmZmYnQGZmZmZmZhxAMzMzMzMzI0CamZmZmZkXQDMzMzMzMx9AMzMzMzMzIECamZmZmZklQJqZmZmZmQFAzczMzMzMIkAzMzMzMzMdQJqZmZmZmRVAzczMzMzMIEBmZmZmZmYYQGZmZmZmZhJAmpmZmZmZIUAzMzMzMzMdQAAAAAAAAChAmpmZmZmZIUAAAAAAAAAqQDMzMzMzMxNAAAAAAAAAI0BmZmZmZmYcQJqZmZmZmRNAMzMzMzMzEUCamZmZmZkdQDMzMzMzMx1AMzMzMzMzHUDNzMzMzMwcQDMzMzMzMylAMzMzMzMzD0BmZmZmZmYlQAAAAAAAAB5AAAAAAAAAI0BmZmZmZmYgQGZmZmZmZh5AMzMzMzMzGUCamZmZmZkgQAAAAAAAABpAmpmZmZmZK0CamZmZmZkdQAAAAAAAACJAZmZmZmZmHkBmZmZmZmYlQJqZmZmZmSJAMzMzMzMzIkBmZmZmZmYQQM3MzMzMzB5AZmZmZmZmFEAzMzMzMzMfQJqZmZmZmRNAmpmZmZmZJUAzMzMzMzMTQAAAAAAAABRAmpmZmZmZFUAAAAAAAAAmQJqZmZmZmRVAzczMzMzMGkAAAAAAAAAYQM3MzMzMzBxAZmZmZmZmGEBmZmZmZmYmQAAAAAAAABZAzczMzMzMEEDNzMzMzMwaQDMzMzMzMyVAZmZmZmZmEEAzMzMzMzMiQGZmZmZmZhBAAAAAAAAAI0BmZmZmZmYWQDMzMzMzMyNAMzMzMzMzE0BmZmZmZmYhQGZmZmZmZhJAMzMzMzMzIEBmZmZmZmYiQM3MzMzMzCFAAAAAAAAAHkDNzMzMzMweQGZmZmZmZhxAZmZmZmZmJUBmZmZmZmYUQM3MzMzMzCRAzczMzMzMHECamZmZmZkiQDMzMzMzMxtAZmZmZmZmGkCamZmZmZkZQM3MzMzMzCRAZmZmZmZmEEAAAAAAAAAjQJqZmZmZmQ1AAAAAAAAAJEAzMzMzMzMbQM3MzMzMzBxAMzMzMzMzD0DNzMzMzMwlQJqZmZmZmRtAzczMzMzMIECamZmZmZkZQM3MzMzMzBpAzczMzMzMGkAAAAAAAAAcQGZmZmZmZhhAZmZmZmZmIEBmZmZmZmYQQM3MzMzMzCFAmpmZmZmZGUAAAAAAAAAhQDMzMzMzMxNAmpmZmZmZG0BmZmZmZmYSQAAAAAAAABxAMzMzMzMzE0AAAAAAAAAcQGZmZmZmZhRAZmZmZmZmGkDNzMzMzMweQGZmZmZmZiRAMzMzMzMzG0AAAAAAAAASQAAAAAAAACFAAAAAAAAAGEAzMzMzMzMTQDMzMzMzMyFAZmZmZmZmIEAAAAAAAAAEQJqZmZmZmSBAzczMzMzMIUAzMzMzMzMTQDMzMzMzMyhAZmZmZmZmGEAAAAAAAAAmQJqZmZmZmSBAzczMzMzMIUAzMzMzMzMHQDMzMzMzMyRAmpmZmZmZF0AzMzMzMzMlQJqZmZmZmRtAAAAAAAAALEBmZmZmZmYaQJqZmZmZmSJAAAAAAAAAGEAAAAAAAAAUQDMzMzMzMxVAmpmZmZmZIUAzMzMzMzMbQGZmZmZmZiVAMzMzMzMzIEAAAAAAAAAhQJqZmZmZmR1AAAAAAAAAIUCamZmZmZkTQJqZmZmZmSFAMzMzMzMzIUAzMzMzMzMbQJqZmZmZmRFAMzMzMzMzF0CamZmZmZkVQJqZmZmZmRtAMzMzMzMzD0AAAAAAAAAeQGZmZmZmZhBAZmZmZmZmJEAzMzMzMzMXQGZmZmZmZiRAzczMzMzMHEAAAAAAAAAiQGZmZmZmZh5AzczMzMzMJEAzMzMzMzMZQAAAAAAAACZAmpmZmZmZFUBmZmZmZmYhQM3MzMzMzBBAzczMzMzMIUDNzMzMzMwQQJqZmZmZmR9AAAAAAAAAHkDNzMzMzMwlQDMzMzMzMxtAZmZmZmZmHkAzMzMzMzMXQGZmZmZmZhZAzczMzMzMGEAzMzMzMzMPQGZmZmZmZhxAmpmZmZmZHUCamZmZmZkbQAAAAAAAAB5AzczMzMzMEEBmZmZmZmYgQDMzMzMzMyBAZmZmZmZmHkCamZmZmZkZQM3MzMzMzCZAZmZmZmZmGkBmZmZmZmYjQM3MzMzMzBxAzczMzMzMGEAAAAAAAAAaQDMzMzMzMyVAAAAAAAAAGkCamZmZmZkgQJqZmZmZmRtAmpmZmZmZI0BmZmZmZmYcQJqZmZmZmSJAZmZmZmZmCkDNzMzMzMwaQGZmZmZmZhRAzczMzMzMGkDNzMzMzMwSQJqZmZmZmR1AAAAAAAAAEkBmZmZmZmYgQM3MzMzMzBhAMzMzMzMzIUAAAAAAAAAgQAAAAAAAABpAZmZmZmZmGEAAAAAAAAAgQAAAAAAAABJAAAAAAAAAGkDNzMzMzMwQQDMzMzMzMyBAmpmZmZmZF0CamZmZmZkqQGZmZmZmZh5AMzMzMzMzJEBmZmZmZmYgQAAAAAAAACBAZmZmZmZmEEAAAAAAAAAhQAAAAAAAABZAMzMzMzMzI0AzMzMzMzMdQGZmZmZmZiVAzczMzMzMI0AAAAAAAAAhQAAAAAAAABBAmpmZmZmZI0DNzMzMzMwWQDMzMzMzMx9AMzMzMzMzD0CamZmZmZkdQDMzMzMzMwtAAAAAAAAAGEAzMzMzMzMXQGZmZmZmZhZAZmZmZmZmFkAzMzMzMzMhQJqZmZmZmRFAAAAAAAAAIkBmZmZmZmYOQDMzMzMzMyBAmpmZmZmZIEAAAAAAAAAnQAAAAAAAACJAMzMzMzMzFUAAAAAAAAAIQJqZmZmZmSBAmpmZmZmZF0DNzMzMzMwUQM3MzMzMzBhAAAAAAAAAIUCamZmZmZkZQAAAAAAAACJAAAAAAAAAJkAzMzMzMzMdQDMzMzMzMyJAzczMzMzMHkAzMzMzMzMdQDMzMzMzMyZAmpmZmZmZFUAzMzMzMzMjQAAAAAAAABpAMzMzMzMzGUAzMzMzMzMTQJqZmZmZmSVAmpmZmZmZG0BmZmZmZmYnQGZmZmZmZiJAzczMzMzMIkAzMzMzMzMPQAAAAAAAACVAzczMzMzMHkCamZmZmZkgQJqZmZmZmRlAZmZmZmZmKUBmZmZmZmYSQDMzMzMzMxVAMzMzMzMzH0AAAAAAAAApQAAAAAAAABhAMzMzMzMzH0AzMzMzMzMVQDMzMzMzMyBAZmZmZmZmJEBmZmZmZmYmQGZmZmZmZh5AMzMzMzMzJ0DNzMzMzMwWQM3MzMzMzBZAmpmZmZmZH0AAAAAAAAAgQDMzMzMzMxVAZmZmZmZmHkDNzMzMzMwUQDMzMzMzMxVAAAAAAAAAGkDNzMzMzMwiQJqZmZmZmRVAAAAAAAAAKUAAAAAAAAAaQM3MzMzMzBxAAAAAAAAAIEAAAAAAAAAhQJqZmZmZmR9AAAAAAAAAI0BmZmZmZmYaQDMzMzMzMyBAZmZmZmZmHkDNzMzMzMwjQAAAAAAAABxAmpmZmZmZF0AAAAAAAAAMQM3MzMzMzCJAMzMzMzMzFUAAAAAAAAAnQGZmZmZmZh5AZmZmZmZmIkAAAAAAAAAgQGZmZmZmZiNAZmZmZmZmFkCamZmZmZkkQM3MzMzMzBJAzczMzMzMIECamZmZmZkJQAAAAAAAACBAmpmZmZmZGUAzMzMzMzMgQGZmZmZmZhBAzczMzMzMHEDNzMzMzMwMQDMzMzMzMyZAAAAAAAAAGkCamZmZmZkmQAAAAAAAABZAAAAAAAAAJUAzMzMzMzMbQDMzMzMzMyRAZmZmZmZmFkCamZmZmZkkQJqZmZmZmRdAmpmZmZmZFUBmZmZmZmYYQGZmZmZmZiFAzczMzMzMFkAzMzMzMzMXQGZmZmZmZhxAMzMzMzMzIEAAAAAAAAAQQJqZmZmZmSRAmpmZmZmZHUBmZmZmZmYgQDMzMzMzMxlAAAAAAAAAJ0BmZmZmZmYeQGZmZmZmZhZAmpmZmZmZFUDNzMzMzMwhQDMzMzMzMxdAzczMzMzMIkAAAAAAAAD4P5qZmZmZmRlAZmZmZmZmHkDNzMzMzMwjQAAAAAAAABxAMzMzMzMzIkCamZmZmZkTQAAAAAAAAB5AZmZmZmZmGECamZmZmZkgQJqZmZmZmRNAMzMzMzMzIUAzMzMzMzMZQJqZmZmZmSNAAAAAAAAAGEAAAAAAAAAUQAAAAAAAABhAZmZmZmZmHEDNzMzMzMwgQM3MzMzMzCVAZmZmZmZmEkDNzMzMzMwiQAAAAAAAACBAMzMzMzMzJECamZmZmZkNQJqZmZmZmSZAAAAAAAAAIEAAAAAAAAAoQAAAAAAAABJAAAAAAAAAJUAAAAAAAAAUQGZmZmZmZiFAZmZmZmZmEECamZmZmZkbQDMzMzMzMxVAMzMzMzMzG0BmZmZmZmYSQJqZmZmZmSJAAAAAAAAAFkCamZmZmZkmQAAAAAAAAB5AAAAAAAAAFkAAAAAAAAAaQDMzMzMzMyVAZmZmZmZmFkAAAAAAAAAaQM3MzMzMzB5AAAAAAAAAKUBmZmZmZmYWQGZmZmZmZi1AmpmZmZmZF0BmZmZmZmYjQJqZmZmZmR1AMzMzMzMzIEAzMzMzMzMbQJqZmZmZmR9AzczMzMzMIkAzMzMzMzMoQDMzMzMzMxdAAAAAAAAAI0DNzMzMzMwYQJqZmZmZmSNAzczMzMzMIkBmZmZmZmYkQJqZmZmZmRdAMzMzMzMzHUDNzMzMzMwaQDMzMzMzMxlAzczMzMzMGkAzMzMzMzMkQJqZmZmZmRtAzczMzMzMIEAzMzMzMzMTQAAAAAAAABZAMzMzMzMzEUAzMzMzMzMfQGZmZmZmZhxAmpmZmZmZJECamZmZmZkRQGZmZmZmZiNAMzMzMzMzF0AzMzMzMzMhQAAAAAAAACBAmpmZmZmZIkCamZmZmZkTQAAAAAAAACNAZmZmZmZmIEDNzMzMzMwQQDMzMzMzMxdAZmZmZmZmJUBmZmZmZmYYQM3MzMzMzB5AmpmZmZmZFUDNzMzMzMwjQDMzMzMzMx1AzczMzMzMJUBmZmZmZmYaQJqZmZmZmRNAAAAAAAAAIUCamZmZmZkZQDMzMzMzMyNAZmZmZmZmJUDNzMzMzMwjQM3MzMzMzBxAMzMzMzMzA0AzMzMzMzMnQM3MzMzMzBhAmpmZmZmZHUDNzMzMzMwgQDMzMzMzMxlAmpmZmZmZJECamZmZmZkdQAAAAAAAABhAZmZmZmZmJUAAAAAAAAAiQM3MzMzMzCZAmpmZmZmZGUAzMzMzMzMfQJqZmZmZmRtAMzMzMzMzF0BmZmZmZmYWQAAAAAAAACJAMzMzMzMzIEBmZmZmZmYaQM3MzMzMzCFAZmZmZmZmGkAAAAAAAAAWQGZmZmZmZiJAmpmZmZmZG0DNzMzMzMwgQGZmZmZmZhhAMzMzMzMzIUAzMzMzMzMfQAAAAAAAACBAzczMzMzMDECamZmZmZkkQAAAAAAAABhAMzMzMzMzJUDNzMzMzMwYQDMzMzMzMxNAzczMzMzMHEBmZmZmZmYaQAAAAAAAABxAAAAAAAAAFkDNzMzMzMwcQM3MzMzMzBxAZmZmZmZmEECamZmZmZkgQDMzMzMzMx1AZmZmZmZmFkDNzMzMzMwMQM3MzMzMzCFAmpmZmZmZEUAzMzMzMzMhQAAAAAAAABxAmpmZmZmZHUAAAAAAAAAeQJqZmZmZmRdAZmZmZmZmGEBmZmZmZmYkQAAAAAAAACBAMzMzMzMzJEAzMzMzMzMiQM3MzMzMzBhAzczMzMzMHEAzMzMzMzMnQM3MzMzMzBBAzczMzMzMGkAzMzMzMzMZQAAAAAAAACJAzczMzMzMDECamZmZmZkiQAAAAAAAACFAMzMzMzMzJUAzMzMzMzMVQJqZmZmZmSVAzczMzMzMIECamZmZmZkVQAAAAAAAABpAMzMzMzMzI0BmZmZmZmYhQGZmZmZmZiVAMzMzMzMzHUBmZmZmZmYgQGZmZmZmZhJAAAAAAAAAIkBmZmZmZmYaQDMzMzMzMx9AZmZmZmZmIkBmZmZmZmYgQDMzMzMzMxtAZmZmZmZmJEAAAAAAAAAjQGZmZmZmZh5AAAAAAAAAFEAzMzMzMzMVQGZmZmZmZhJAAAAAAAAAKEAAAAAAAAAUQJqZmZmZmSZAmpmZmZmZGUCamZmZmZkbQDMzMzMzMx9AzczMzMzMIEDNzMzMzMwMQM3MzMzMzCNAAAAAAAAADEAAAAAAAAAnQJqZmZmZmQ1AMzMzMzMzHUBmZmZmZmYUQAAAAAAAACJAZmZmZmZmFEAAAAAAAAAjQDMzMzMzMyFAZmZmZmZmIUDNzMzMzMwgQAAAAAAAABhAzczMzMzMHECamZmZmZkkQDMzMzMzMxdAAAAAAAAAHECamZmZmZkXQDMzMzMzMyFAZmZmZmZmGEDNzMzMzMwjQAAAAAAAABBAMzMzMzMzIECamZmZmZkZQDMzMzMzMyVAmpmZmZmZF0BmZmZmZmYqQJqZmZmZmR1AmpmZmZmZG0BmZmZmZmYaQM3MzMzMzCNAzczMzMzMFkDNzMzMzMwmQGZmZmZmZh5AMzMzMzMzHUAAAAAAAAAWQM3MzMzMzCdAZmZmZmZmHEAAAAAAAAAcQM3MzMzMzBpAZmZmZmZmJEAAAAAAAAAQQM3MzMzMzCBAzczMzMzMFkAzMzMzMzMhQAAAAAAAABpAzczMzMzMEkAzMzMzMzMXQGZmZmZmZhxAzczMzMzMCEAAAAAAAAAeQAAAAAAAABxAzczMzMzMJkDNzMzMzMweQDMzMzMzMyRAzczMzMzMHkAzMzMzMzMkQDMzMzMzMxNAZmZmZmZmIkAzMzMzMzMLQDMzMzMzMyNAAAAAAAAAGEDNzMzMzMwkQDMzMzMzMxVAMzMzMzMzHUBmZmZmZmYYQDMzMzMzMxlAAAAAAAAAFEAzMzMzMzMbQM3MzMzMzBJAzczMzMzMLEAAAAAAAAAjQAAAAAAAACZAAAAAAAAAGkCamZmZmZkXQM3MzMzMzBpAAAAAAAAAI0CamZmZmZkiQAAAAAAAACBAmpmZmZmZIEBmZmZmZmYgQJqZmZmZmQ1AZmZmZmZmIUAzMzMzMzMgQDMzMzMzMxtAmpmZmZmZFUAAAAAAAAAtQGZmZmZmZhZAZmZmZmZmIkAAAAAAAAAeQJqZmZmZmR9AMzMzMzMzG0AzMzMzMzMpQDMzMzMzMxdAZmZmZmZmGkAzMzMzMzMjQDMzMzMzMyNAmpmZmZmZF0AAAAAAAAAlQM3MzMzMzBxAmpmZmZmZJEDNzMzMzMwhQDMzMzMzMyFAzczMzMzMGkBmZmZmZmYcQAAAAAAAACJAMzMzMzMzIECamZmZmZkVQJqZmZmZmR9AAAAAAAAAI0DNzMzMzMwqQAAAAAAAAB5AmpmZmZmZHUCamZmZmZkRQAAAAAAAACVAMzMzMzMzIkAzMzMzMzMVQGZmZmZmZhpAzczMzMzMEkBmZmZmZmYOQGZmZmZmZihAmpmZmZmZE0CamZmZmZkiQGZmZmZmZhBAMzMzMzMzG0AAAAAAAAAQQDMzMzMzMyNAAAAAAAAAI0CamZmZmZkkQGZmZmZmZhJAAAAAAAAAGkAAAAAAAAAaQGZmZmZmZiFAAAAAAAAAIkBmZmZmZmYaQDMzMzMzMyBAzczMzMzMGkDNzMzMzMwYQM3MzMzMzB5AzczMzMzMIEAAAAAAAAAaQAAAAAAAAB5AZmZmZmZmJEAzMzMzMzMZQGZmZmZmZhZAzczMzMzMFkCamZmZmZkfQDMzMzMzMxVAzczMzMzMIEAAAAAAAAAUQGZmZmZmZitAZmZmZmZmFEAzMzMzMzMZQM3MzMzMzBhAAAAAAAAAJUBmZmZmZmYWQDMzMzMzMyJAAAAAAAAAFkAAAAAAAAAoQJqZmZmZmRtAmpmZmZmZIkAAAAAAAAAaQM3MzMzMzCBAmpmZmZmZGUBmZmZmZmYlQM3MzMzMzBhAmpmZmZmZF0AzMzMzMzMgQDMzMzMzMyBAAAAAAAAAIEDNzMzMzMwgQM3MzMzMzBxAAAAAAAAAJkBmZmZmZmYcQM3MzMzMzCBAmpmZmZmZF0AAAAAAAAAQQJqZmZmZmR1AzczMzMzMJUDNzMzMzMwSQGZmZmZmZiNAAAAAAAAAGkBmZmZmZmYYQAAAAAAAACBAMzMzMzMzHUAAAAAAAAAeQGZmZmZmZhBAAAAAAAAAGECamZmZmZkjQAAAAAAAAAxAzczMzMzMGEAzMzMzMzMfQGZmZmZmZiNAZmZmZmZmGECamZmZmZkjQDMzMzMzMxlAAAAAAAAAHEBmZmZmZmYeQGZmZmZmZiFAZmZmZmZmGEDNzMzMzMwiQDMzMzMzMx9AmpmZmZmZJkCamZmZmZkZQJqZmZmZmSJAAAAAAAAAGkAAAAAAAAAeQDMzMzMzMyBAzczMzMzMIUCamZmZmZkiQDMzMzMzMyVAmpmZmZmZEUCamZmZmZkZQJqZmZmZmRlAmpmZmZmZIkAAAAAAAAASQDMzMzMzMyhAZmZmZmZmHkDNzMzMzMwcQDMzMzMzMxNAMzMzMzMzGUAzMzMzMzMVQJqZmZmZmRtAzczMzMzMHEAzMzMzMzMfQGZmZmZmZhZAzczMzMzMFkAzMzMzMzMZQAAAAAAAACFAmpmZmZmZE0CamZmZmZkkQAAAAAAAACNAAAAAAAAAJ0BmZmZmZmYgQAAAAAAAACNAzczMzMzMHEAzMzMzMzMlQJqZmZmZmRlAzczMzMzMHECamZmZmZkZQJqZmZmZmSFAMzMzMzMzE0BmZmZmZmYYQJqZmZmZmRtAzczMzMzMIkAAAAAAAAAUQGZmZmZmZiRAZmZmZmZmGkAAAAAAAAAYQDMzMzMzMxlAmpmZmZmZI0BmZmZmZmYaQGZmZmZmZhxAMzMzMzMzG0CamZmZmZkdQAAAAAAAABhAmpmZmZmZFUBmZmZmZmYiQM3MzMzMzCNAZmZmZmZmGkAzMzMzMzMfQDMzMzMzMxdAMzMzMzMzIkAAAAAAAAAiQJqZmZmZmRVAmpmZmZmZF0BmZmZmZmYjQJqZmZmZmRVAAAAAAAAAIEBmZmZmZmYSQM3MzMzMzCBAMzMzMzMzFUBmZmZmZmYgQAAAAAAAACFAZmZmZmZmIkBmZmZmZmYUQGZmZmZmZiVAMzMzMzMzC0CamZmZmZkXQGZmZmZmZiFAZmZmZmZmI0BmZmZmZmYSQGZmZmZmZiZAzczMzMzMFEAAAAAAAAApQDMzMzMzMx9AMzMzMzMzJUBmZmZmZmYWQDMzMzMzMx9AmpmZmZmZH0CamZmZmZkbQJqZmZmZmSFAZmZmZmZmIkDNzMzMzMwSQDMzMzMzMxFAAAAAAAAAI0CamZmZmZkjQDMzMzMzMxdAzczMzMzMKECamZmZmZkfQM3MzMzMzChAzczMzMzMHEAAAAAAAAAlQM3MzMzMzBhAZmZmZmZmJkAzMzMzMzMbQAAAAAAAABxAAAAAAAAAI0AAAAAAAAAmQJqZmZmZmSBAzczMzMzMGkDNzMzMzMwmQAAAAAAAAClAMzMzMzMzHUBmZmZmZmYkQM3MzMzMzB5AmpmZmZmZIkCamZmZmZkTQDMzMzMzMwtAMzMzMzMzD0AAAAAAAAAiQM3MzMzMzAhAMzMzMzMzIECamZmZmZkdQAAAAAAAAChAZmZmZmZmGkAzMzMzMzMnQDMzMzMzMxVAzczMzMzMIEAAAAAAAAAAQGZmZmZmZh5AMzMzMzMzHUCamZmZmZkbQJqZmZmZmRFAMzMzMzMzJEBmZmZmZmYgQM3MzMzMzCBAzczMzMzMHkAzMzMzMzMgQM3MzMzMzBpAAAAAAAAAHEAzMzMzMzMbQDMzMzMzMyBAMzMzMzMzD0CamZmZmZkVQM3MzMzMzB5AmpmZmZmZH0CamZmZmZkjQM3MzMzMzCBAMzMzMzMzGUBmZmZmZmYkQJqZmZmZmR9AMzMzMzMzH0CamZmZmZkdQAAAAAAAABxAZmZmZmZmFEBmZmZmZmYjQGZmZmZmZhRAZmZmZmZmGkBmZmZmZmYYQDMzMzMzMxtAMzMzMzMzF0AzMzMzMzMjQAAAAAAAAAhAMzMzMzMzIkDNzMzMzMwWQM3MzMzMzCtAAAAAAAAAFEBmZmZmZmYiQAAAAAAAABxAmpmZmZmZIEBmZmZmZmYYQJqZmZmZmRNAAAAAAAAAFkCamZmZmZkgQJqZmZmZmRFAmpmZmZmZIEAzMzMzMzMTQAAAAAAAAChAmpmZmZmZGUBmZmZmZmYoQDMzMzMzMx9AMzMzMzMzJEDNzMzMzMwWQAAAAAAAACNAZmZmZmZmCkCamZmZmZkfQJqZmZmZmR1AZmZmZmZmJEDNzMzMzMweQM3MzMzMzCBAzczMzMzMEEDNzMzMzMwWQAAAAAAAABpAzczMzMzMIEDNzMzMzMwIQM3MzMzMzCdAMzMzMzMzGUAAAAAAAAAmQJqZmZmZmRdAzczMzMzMJECamZmZmZkTQGZmZmZmZhRAMzMzMzMz+z8AAAAAAAAgQDMzMzMzMxFAmpmZmZmZKEAAAAAAAAAiQDMzMzMzMyJAmpmZmZmZGUAAAAAAAAAWQM3MzMzMzBBAzczMzMzMGEDNzMzMzMwaQDMzMzMzMxlAMzMzMzMzFUAzMzMzMzMbQJqZmZmZmR9AmpmZmZmZHUAAAAAAAAASQGZmZmZmZiRAmpmZmZmZG0AzMzMzMzMZQGZmZmZmZiJAzczMzMzMIUBmZmZmZmYQQM3MzMzMzCVAZmZmZmZmFEAAAAAAAAAeQJqZmZmZmR1AAAAAAAAAIEDNzMzMzMwWQM3MzMzMzCVAMzMzMzMzG0DNzMzMzMwhQAAAAAAAACBAmpmZmZmZIkBmZmZmZmYgQM3MzMzMzBpAZmZmZmZmEkAzMzMzMzMjQGZmZmZmZhxAAAAAAAAAJkBmZmZmZmYSQM3MzMzMzCJAMzMzMzMzC0AzMzMzMzMdQAAAAAAAABpAzczMzMzMIEDNzMzMzMwWQDMzMzMzMyBAmpmZmZmZIEAAAAAAAAAQQAAAAAAAABxAMzMzMzMzEUAzMzMzMzMbQDMzMzMzMx1AMzMzMzMzF0DNzMzMzMwiQM3MzMzMzAhAmpmZmZmZHUDNzMzMzMwQQJqZmZmZmSZAAAAAAAAAGkDNzMzMzMweQAAAAAAAACBAmpmZmZmZIkAAAAAAAAAYQJqZmZmZmSFAmpmZmZmZIEAAAAAAAAAjQGZmZmZmZhRAZmZmZmZmMECamZmZmZkVQDMzMzMzMxFAzczMzMzMFECamZmZmZkfQM3MzMzMzBpAzczMzMzMHkAzMzMzMzMPQJqZmZmZmR1AMzMzMzMzE0DNzMzMzMwYQDMzMzMzMxFAZmZmZmZmHkAAAAAAAAAWQJqZmZmZmR1AAAAAAAAACEBmZmZmZmYiQM3MzMzMzBJAAAAAAAAAJEBmZmZmZmYYQJqZmZmZmSNAzczMzMzMGkAzMzMzMzMmQAAAAAAAAB5AZmZmZmZmHEAzMzMzMzMdQAAAAAAAACRAMzMzMzMzEUBmZmZmZmYhQDMzMzMzMyBAZmZmZmZmJ0DNzMzMzMweQM3MzMzMzBpAAAAAAAAAEkDNzMzMzMwkQM3MzMzMzBhAmpmZmZmZJEAAAAAAAAAWQM3MzMzMzBRAAAAAAAAAEEAAAAAAAAAlQAAAAAAAABhAZmZmZmZmHkAAAAAAAAAWQDMzMzMzMyBAZmZmZmZmEkDNzMzMzMwYQJqZmZmZmRlAMzMzMzMzIECamZmZmZkXQDMzMzMzMyRAAAAAAAAAGEDNzMzMzMwiQGZmZmZmZhRAAAAAAAAAKEBmZmZmZmYkQJqZmZmZmSVAZmZmZmZmFEAzMzMzMzMZQDMzMzMzMxdAmpmZmZmZG0AAAAAAAAAWQM3MzMzMzCVAZmZmZmZmGkAAAAAAAAAgQDMzMzMzMx1AmpmZmZmZHUCamZmZmZkbQAAAAAAAAClAzczMzMzMGECamZmZmZkkQGZmZmZmZiFAZmZmZmZmIUDNzMzMzMwUQAAAAAAAACZAmpmZmZmZIUAzMzMzMzMjQDMzMzMzMxNAAAAAAAAAIkDNzMzMzMwaQAAAAAAAACRAMzMzMzMzFUDNzMzMzMwUQDMzMzMzMwtAZmZmZmZmGkAzMzMzMzMbQM3MzMzMzBhAmpmZmZmZF0CamZmZmZkqQM3MzMzMzBRAAAAAAAAAJ0DNzMzMzMwQQDMzMzMzMyBAZmZmZmZmGEBmZmZmZmYaQGZmZmZmZiBAAAAAAAAAGEAzMzMzMzMbQGZmZmZmZiJAAAAAAAAAIkAzMzMzMzMbQAAAAAAAAB5AzczMzMzMHkBmZmZmZmYUQDMzMzMzMxdAMzMzMzMzC0CamZmZmZkVQAAAAAAAABJAmpmZmZmZIECamZmZmZkdQGZmZmZmZiZAMzMzMzMzGUCamZmZmZkXQM3MzMzMzBBAzczMzMzMFkAzMzMzMzMRQDMzMzMzMyVAMzMzMzMzFUBmZmZmZmYeQGZmZmZmZh5AMzMzMzMzI0BmZmZmZmYiQM3MzMzMzCVAAAAAAAAAGECamZmZmZklQM3MzMzMzBZAzczMzMzMHkDNzMzMzMwYQM3MzMzMzCFAAAAAAAAAIkDNzMzMzMwiQGZmZmZmZh5AMzMzMzMzIUDNzMzMzMwhQAAAAAAAAAxAmpmZmZmZH0DNzMzMzMwcQDMzMzMzMxNAAAAAAAAAGkAAAAAAAAAgQGZmZmZmZhpAAAAAAAAAFEAzMzMzMzMgQJqZmZmZmRVAmpmZmZmZIUBmZmZmZmYUQM3MzMzMzCNAzczMzMzMGkCamZmZmZklQM3MzMzMzBJAmpmZmZmZG0CamZmZmZkjQAAAAAAAAChAMzMzMzMzC0DNzMzMzMwhQM3MzMzMzCFAmpmZmZmZIEDNzMzMzMwaQAAAAAAAABZAMzMzMzMzEUAAAAAAAAAiQDMzMzMzMw9AzczMzMzMJ0CamZmZmZkTQDMzMzMzMyNAAAAAAAAAHkAAAAAAAAAiQM3MzMzMzB5AzczMzMzMJUBmZmZmZmYaQDMzMzMzMxlAzczMzMzMHkCamZmZmZkhQM3MzMzMzB5AMzMzMzMzJkCamZmZmZkhQDMzMzMzMyVAMzMzMzMzG0BmZmZmZmYcQGZmZmZmZhRAmpmZmZmZJ0CamZmZmZkbQDMzMzMzMyVAAAAAAAAAFkAAAAAAAAAcQAAAAAAAABxAZmZmZmZmIkBmZmZmZmYgQDMzMzMzMyNAmpmZmZmZIEDNzMzMzMwiQDMzMzMzMw9AMzMzMzMzE0CamZmZmZkjQM3MzMzMzBhAZmZmZmZmGkCamZmZmZkiQJqZmZmZmRlAAAAAAAAAIkDNzMzMzMwMQGZmZmZmZiBAzczMzMzMFEAAAAAAAAAkQDMzMzMzMw9AMzMzMzMzIUAAAAAAAAASQM3MzMzMzB5AMzMzMzMzIUDNzMzMzMwgQGZmZmZmZgpAAAAAAAAAFEBmZmZmZmYhQAAAAAAAACdAAAAAAAAADEAzMzMzMzMhQJqZmZmZmR9AzczMzMzMJEAAAAAAAAAcQM3MzMzMzCJAMzMzMzMzHUBmZmZmZmYkQAAAAAAAABRAzczMzMzMEEAAAAAAAAAgQJqZmZmZmSBAmpmZmZmZH0BmZmZmZmYcQDMzMzMzMx1AmpmZmZmZIECamZmZmZkXQGZmZmZmZiFAmpmZmZmZG0BmZmZmZmYmQAAAAAAAACBAMzMzMzMzIkAAAAAAAAAeQM3MzMzMzBhAAAAAAAAAGEDNzMzMzMweQAAAAAAAABRAmpmZmZmZIUDNzMzMzMweQGZmZmZmZiNAMzMzMzMzFUCamZmZmZkXQM3MzMzMzBJAAAAAAAAAHECamZmZmZkdQAAAAAAAACVAzczMzMzMIUAAAAAAAAAjQAAAAAAAABZAAAAAAAAAJUDNzMzMzMwWQAAAAAAAACNAzczMzMzMIEBmZmZmZmYmQM3MzMzMzBxAZmZmZmZmGEAzMzMzMzMRQJqZmZmZmSRAZmZmZmZmFkCamZmZmZkkQDMzMzMzMyVAMzMzMzMzHUCamZmZmZkbQDMzMzMzMx9AAAAAAAAAEkDNzMzMzMwiQJqZmZmZmRFAzczMzMzMIkBmZmZmZmYQQM3MzMzMzCFAMzMzMzMzH0AzMzMzMzMmQJqZmZmZmQ1AZmZmZmZmGkCamZmZmZkdQAAAAAAAABxAAAAAAAAAIUCamZmZmZkkQAAAAAAAAAxAmpmZmZmZJ0CamZmZmZkdQAAAAAAAACdAzczMzMzMFkAzMzMzMzMoQAAAAAAAABRAzczMzMzMFEDNzMzMzMwWQAAAAAAAABxAMzMzMzMzJEDNzMzMzMwjQM3MzMzMzCBAmpmZmZmZGUAAAAAAAAAeQGZmZmZmZiZAmpmZmZmZG0AzMzMzMzMbQDMzMzMzMwtAAAAAAAAAJkCamZmZmZkXQDMzMzMzMyRAZmZmZmZmGEDNzMzMzMwgQJqZmZmZmRVAmpmZmZmZEUAAAAAAAAAcQJqZmZmZmShAmpmZmZmZG0DNzMzMzMwhQGZmZmZmZh5AAAAAAAAAJUBmZmZmZmYYQM3MzMzMzCFAMzMzMzMzD0DNzMzMzMwkQJqZmZmZmRdAzczMzMzMFEAAAAAAAAAcQDMzMzMzMyVAAAAAAAAAEkAAAAAAAAAiQGZmZmZmZgZAMzMzMzMzE0AAAAAAAAAEQDMzMzMzMyJAzczMzMzMGkAzMzMzMzMlQDMzMzMzMxNAZmZmZmZmIkDNzMzMzMwUQGZmZmZmZhxAzczMzMzMFkAAAAAAAAAgQGZmZmZmZiBAMzMzMzMzIUAAAAAAAAAaQM3MzMzMzBpAAAAAAAAAIkCamZmZmZklQDMzMzMzMx1AmpmZmZmZI0BmZmZmZmYgQM3MzMzMzChAzczMzMzMFEAAAAAAAAAiQJqZmZmZmRlAMzMzMzMzIEAAAAAAAAAcQJqZmZmZmSRAZmZmZmZmHkDNzMzMzMwaQAAAAAAAABpAZmZmZmZmJkCamZmZmZkhQJqZmZmZmSVAzczMzMzMHkDNzMzMzMwQQJqZmZmZmRNAAAAAAAAAJ0AAAAAAAAAhQDMzMzMzMyBAZmZmZmZmFEDNzMzMzMwcQM3MzMzMzB5AmpmZmZmZJkBmZmZmZmYaQDMzMzMzMyZAAAAAAAAAFEBmZmZmZmYiQJqZmZmZmRVAMzMzMzMzGUAAAAAAAAAMQM3MzMzMzCdAzczMzMzMGkDNzMzMzMwYQJqZmZmZmRVAmpmZmZmZJUBmZmZmZmYUQJqZmZmZmRlAzczMzMzMHEBmZmZmZmYYQDMzMzMzMyBAZmZmZmZmKUAAAAAAAAASQDMzMzMzMx9AmpmZmZmZGUDNzMzMzMwgQM3MzMzMzCJAMzMzMzMzKkDNzMzMzMweQM3MzMzMzBpAAAAAAAAAIkCamZmZmZkVQAAAAAAAABJAAAAAAAAAIkAAAAAAAAAeQGZmZmZmZiVAAAAAAAAAHkAAAAAAAAAjQGZmZmZmZiBAAAAAAAAAIUBmZmZmZmYaQJqZmZmZmSRAZmZmZmZmFEBmZmZmZmYnQDMzMzMzMxdAAAAAAAAAI0AAAAAAAAAkQDMzMzMzMyhAZmZmZmZmHkDNzMzMzMwjQM3MzMzMzBhAAAAAAAAAIEDNzMzMzMwYQAAAAAAAACZAAAAAAAAAGkCamZmZmZkfQGZmZmZmZgJAZmZmZmZmJ0BmZmZmZmYaQAAAAAAAAB5AZmZmZmZmFkDNzMzMzMwiQDMzMzMzMxNAZmZmZmZmIEAAAAAAAAAIQGZmZmZmZiFAZmZmZmZmFkAAAAAAAAAaQJqZmZmZmSBAZmZmZmZmFECamZmZmZkZQGZmZmZmZhxAZmZmZmZmFECamZmZmZkgQJqZmZmZmR1AZmZmZmZmGEDNzMzMzMwaQM3MzMzMzCZAZmZmZmZmEEAzMzMzMzMoQM3MzMzMzBZAAAAAAAAAHEAzMzMzMzMbQM3MzMzMzCFAAAAAAAAAGEBmZmZmZmYlQM3MzMzMzBpAmpmZmZmZHUAzMzMzMzMdQJqZmZmZmRtAzczMzMzMIEBmZmZmZmYhQM3MzMzMzBxAmpmZmZmZG0BmZmZmZmYiQM3MzMzMzChAMzMzMzMzHUAAAAAAAAAjQDMzMzMzMw9AAAAAAAAAKkCamZmZmZkXQJqZmZmZmSBAAAAAAAAAIEAzMzMzMzMLQAAAAAAAABxAzczMzMzMI0AzMzMzMzMPQAAAAAAAAClAMzMzMzMzGUAzMzMzMzMbQAAAAAAAABpAZmZmZmZmJEAAAAAAAAAaQM3MzMzMzCFAmpmZmZmZG0CamZmZmZkXQGZmZmZmZhZA",
          "dtype": "f8",
          "shape": "1032, 2"
         },
         "hovertemplate": "Has_Hypertension=Yes<br>Age=%{x}<br>BMI=%{y}<br>Stress_Score=%{marker.size}<br>Salt_Intake=%{customdata[0]}<br>Sleep_Duration=%{customdata[1]}<extra></extra>",
         "legendgroup": "Yes",
         "marker": {
          "color": "#636efa",
          "size": {
           "bdata": "CQoDAQcJCAgKBgYACAkFBAYJCgkJCgkCBQIHBwYJAgIHBgIIBgEABAAJCgcHCAkICAYKBQoIAQEKCAIKCAMDCAIJBwUGCAEBAQgKBgkFCAoGBQIKAAIABAEHBQIHBAkHBAgICgoGCgQGCgIJAQoFCggIBAkHAAYEBQQACAgJCAUFCgYCAAEAAwAICgEIAQIGAgUICQIBBgEICQgGCQgDCAMICAkACAQEAwEJCAcIBAoCAwQJBwgBBgcEBgkCBgEDBgABCAkJBgUCAQoDBQoCCAgCBgAFAwIABwECCgkIBwYFCAYHCgIBCgkFCgIDCgYDAgIFCgUGBgoKCQEDCAoCBAMCAAMBAQUKAQcCCAcDAQgBBQYGBQcKAQQBCgAJBgMGBQAICAcIBAkBCAMFAQUKBgMBCgoACQUBBgkHBAoJAQkBCQcBCQYFAAMKBAkICgIDBwoABwIFCAIKCAkBAAkIBggBAgAEBAAKBAoFBwkJCgAICgYBCQUFCAMECQIBBQYGCQoGCgQBAAYGAgIGAQgIAgkKBgADBQYJAAkCCAoKAQMBCAYFCQoJCAQIBwAABwgBCAAACgQJAAEJAQgDBgkJCAkJAAEAAAIKCQIHBQAICQUGBQgKCQkGAAgDAwMJAAkABwQDAQkGBgEDAwUBAwoEAgUKBAoCBAgFBAcECAUHBgkFBggJCQAAAgADCQEJBAUIAwIBAQoICAEJBAkHCQUFAQMACQUFBQUJBgkCBAUECAYHCggJCgkIAwkJCQYIBgYAAQAEAQICAQEECQYDCgEJCQMHCAIBAgoABwEIBQIKCQEKBAUBCQkGBwgEBAoEAQkHBwIDBQoJBAYECgYHCgMECAkACAUHAQkKCQQHCAIJCggFCQUIAwgKAggIAwgBCQMECQAGCQcJAAYFAAoGBwcKBwkKAwIFAAEIAQYECQQGAQQCAwgDCgEECQgJBQcABAAICQgDAAoJBQgACQcDBAcIAAkEBwgFAwMBBgIABggCBwYFCQkKCAoABgoGBgcFAwcIAwIHAQkICgAACAIKAgAJCgoGCgEKBgABBgMFCggEAwMICgUDBwgICQEJCQgKBgYFCQUBAgUJAgcBCQIECQgCBwMKAggEBwcICgUHAAgIAwoKCQoCCQcGCAgECQAIBQkKBAkBCAMBCgYBCAAFBAUJBQIKBgQGAwoJCgkKBQkCAgcKAAUJCgQFAQoKAgIBAQEJAQAFCQQJBQkABAIDAQkKCAoHBwQFBQQDBwEICAkFBAUGCAUEAAgICQIECQkICggKAAYJCQMCCQQJCQEGAAAKBAgCCgcJAAcICgkDAgoBAQYICQoCAQgGAwEABwMGAgAFCgQEAQEIBgkAAggACgkJAwoBAwkJAAQJ",
           "dtype": "i1"
          },
          "sizemode": "area",
          "sizeref": 0.025,
          "symbol": "circle"
         },
         "mode": "markers",
         "name": "Yes",
         "showlegend": true,
         "type": "scattergl",
         "x": {
          "bdata": "RSYURhNRTTJCTE0gT09AT0RRRBgjTUYTPUA0NUMVR0dQIz0zIDlNOi4gPlIaHDQ0FjotGDMyQU82PTRAFBYsGjtEUEUoPEw7Pk8XPU9PLCwaPSlFT0s4E0wTR0Y9SSI3KRwhJFQkJThKQyFNEh02MRpBFCUpRzI1NyojUzROJkElGTJMJ0RHGSYtTkEkFTRRQj0/NilGUDJUR1QpMShTMhpBODtDKU1KNT4hHyAxUEQqT0tLQkVHRhZASDlFHiQiUCRLSE8aHRJLQRJOJ1QrRC5PIUEyKDNFSyETQzROPFRSMjk9Lh0/NDNLJhspQjVIHi8iQh1OJC1FIUVGIUpGOzgfNBoYHjk7GlMWLhlSFTUkTkc4OFQ+S1A3PT4xPkA1JUpAEhQhSh0pLTVNQzpRIjRAKlNJLyNCHFAyFxZGRkQ+FTM4KzNDUkdAKB9TRFFEUEVEGyIiM0Y8IRkVFVRDFk4nJhY/QitASUFOKzVFQEkfLUxJNzhKIj0eKlQjMzk7OkVJTEYnT09IFDA5NRdTRE9TGUQ+PSQlUTc2F0MWPRMeE1JQIiApN09DMxI5UU1RHDQ2OzlENyhQIkY4MjU3SixIMlNFSRkWPhMsPBdAPx1NPDAaRC45OigSJjVHUEdIOUBGRUo6NCoTRTJCLlArJVBCEk8uPiQSN0RQFRkUM0gxQxlSSlRMR0QzNDE/ITZHHxgYJE0TEkAcVCU3Rj1MGlNLLjYjOzo3MyI5PitPP1ETUjUuJhw5HDVMOClJJU9TIk48Ozg0FEQ9TEJOSkhAHU8mKkwrQCEoKxhMTCJNPjY8SDggHjI7U0g7My8xOD8uT0ohGxZSQhQ+LyNPKkFGQh02Tjg/KkxQRxQWRxolTjRDHh8aOypMNxY2TUEtOT5PVEk5OTlMPjtQN00+O0Y4HVM/Ik1RNFAtTTZRJ1JDLjVFMks/LhU4LjFUSRdKSzcgNFEsRhlDUT1GTT8qTVAmNxw+GUQ6PzFHMTIyKycgPUJOVBcaMRkYFxQ6Hx0qSD4ZRkgxPSMnLUdQGDBOKU0pQ0JEMzUXODsjOSYrPR9PTRMiUzk1PigcGxk8EjY2QkkXEysuTB0lRko4PD5FQxkZFjNIPCsZQBIkRkFRUEEwHigSR1IkTTI9Uz8aK0FTKzY9PDwoJh5FGTVCOE47NRImOylDJE04IzVIQEJBNlE0VDs6KU0/Ozg1FBlNTT1LFC8nPUBISCIhHRkoFlIvIVMTVEVPKEg0TR07NzQvL1QgJjRTNBtTKjI1R0UeGSpNHTBNUBcxPBMwMxNDMEkhOUVFN1BQGCwWSCZGMU1QSDNFRS43O1EaLhtLTS1MQj49PBIpFkstREsWGUNCNTpPHUYhMTlIKkQ/OB1A",
          "dtype": "i1"
         },
         "xaxis": "x",
         "y": {
          "bdata": "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",
          "dtype": "f8"
         },
         "yaxis": "y"
        },
        {
         "customdata": {
          "bdata": "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",
          "dtype": "f8",
          "shape": "953, 2"
         },
         "hovertemplate": "Has_Hypertension=No<br>Age=%{x}<br>BMI=%{y}<br>Stress_Score=%{marker.size}<br>Salt_Intake=%{customdata[0]}<br>Sleep_Duration=%{customdata[1]}<extra></extra>",
         "legendgroup": "No",
         "marker": {
          "color": "#EF553B",
          "size": {
           "bdata": "CgMBAAUBBQYEBgIEBAoGBgICBQIDAwQECAYFCAUHAAgBAAMECgcHAAEHBAMFAQEJBgYCAgQHAAIFBgcBBgoDCQICBgUFBgYFAAUGAgYBBgAIBgEHAgcGAwQDAQEIBQoBBwIEBwIHAgMACAIAAAcBBQQFCgkBBwMHAwIDBgEDCQIECQcDBgUHBgYECAYJAgUEAgcDBgIGCAUCBwMJAAYBAwUBAAkCBQIEBwYHBQgABwcFCgcGCgAIBAAEAAIDBwYBBQMGAQcAAAEIBQAECAcDBAUCBAkAAQQBBgQEAwIECAoFBQYAAQAAAAcDCggGAwEHBwABBQAGAAYFAgMCBgcFCQADAQkHAgUFBwUAAAYGBQMCAQYABQYHBQIHAgEDBQACBAADBgYEAwYCAQEABAAFBQAGCQADCAYJBQkABgYBCAYJAQMEAAkCBwABCQYABAoFBwcEBwgDBAEHCQQBBgcDBAAAAQoDBwcKCAoEAgMEAgEACQIABwAGAwMEBgMHBQAJBwMGCQIKAQEJBwgAAwoCBgcBAwIBBQUCBwYDCgQGBAoJBgQEAgAJCgcJAgYBAgYBBAAJBQcCBwoDBAMDAQQEBgcGBggFAAIBBQcJBwcHAAEHAwgKAQMHBwQBAwUHBwAAAwkECQYFBAgHAQQJAgkHCQEEBgcJAwgGBAADAAYHCQQEAwUCBAEGCQUDAAYHBAQCBQIDAQcDBgEEAgQBBgEBAAoKAgUGCQUDCAMGAQAHBgIBBgAIAwUABgcDBgUDBAQAAQMDAwIGBAEGCQYECQkKAgQABgQABAMHBQoCAQAHAAMJBgoEBgMFBQgEAQUCAAICCAIGBAcGBQQAAQIDAAEDAgQBBAUAAwMIBAQCAQAHAgYHBQMABAAFAQEHBQEKCAcCAgEGAQUGAwYABgkEAQUGAQADBgIGAQEFAgEEAQIFAgAGAwYHAAMFCgQFBwIDBQIHAwADAgABAwEFBgIEAwYHBwICBwQGBwkDAgcKBgEFCAEIBgYABQoFBQUDAAcEAAMBBgEFBAQCCQoBBgAFAQEIBAcGCQQEBgEECQIIBQYDAwoABgMKAQACBgAICgUDAgkECAEFAwUEAAIECQcECgcGCgQFCgUJBQAGBAcCBwkJBQMDBgcFCAoHAAoHBgYDCQEIBAgFBQUBBgEFBAMHAwAAAwYFBwkCAwcKAAIFAQACCgQJAQYGBgYACQAEAwQDAgUICAkEAgcDBAMDAwMDAQUBBAMGBQQEAQMAAgYCAQIIAgQGBgIEAAkKCAA=",
           "dtype": "i1"
          },
          "sizemode": "area",
          "sizeref": 0.025,
          "symbol": "circle"
         },
         "mode": "markers",
         "name": "No",
         "showlegend": true,
         "type": "scattergl",
         "x": {
          "bdata": "IE4pJy83EyZLJztIFCY4FR8aTRkTFxVPH0FPRikrEhlQGTIdKFISHyAVIC41HjEtU0otLS8STxRPNkRMMUUdFEkTEiQTMTFITBQlTDVFMjkSHCgwOxgTQSQpRzoyMh8YVCJBLzcsLC9RIi8XP00xIypLP0AsEyI8KyoeGCVSGVNLUCc7IE0ZTRchLygSMyFRUCFKQDgbGyQSFSkxKR0yMkQdPB4TGSsYLjU1USkoTzYdKE8eTCQaHSooOEsWI0siP0MsNjciPjAkHiVOOBIUTypJMhdLTiYkI0IfIDBHIRkZSy0sUDIuHj8XGxYyUitMLEISJkgUKDYiEk9SMUcUHRZKIjc3Qy83LxYuFUkXUyhISSpULDFORCQmOxIdMz4sUBIZEysfGBQoIyBRLSoiGxkXK1FMMiYVKRopFRdKKxYrHUASHxwUMhsoGzkaNEJNGjQnH00vFitPFSM4HzEgKlNERBdUGEQ7USAuLC4bFjceMEAgLi5ANTUrLCUcNygeTxY2HD9KEiAmGitQNxgzIjxMREcpKictQkJOHkRJMS9CLyE5I0BTEi5IMRsYVBlIQTIoJDUuJRMdFjYaKS8fOSonFSs2KixKMBcdRhsiR0RGK0dIJzI1KzkSKj0dJCIZHSArMRsiHxgaQTgjHzApFDkVKiEeHiNPSS8qHzZSIEw8SVAcT0UVJUo6FxZAQk8iFDEcSVQuVCoaORYcQSNLMhckTEE6HkYsGBZLMCgbMS8wEzgeLC8nJSIdIhsnH1FAGC4cFzFEKx4gLhNAJywmQEwkFBIzTiopHSMgTT8iLD8UKRQlICIaN0ETHFEjUTEyOhwiJTI5Ey9TNz8XOkNPTxVLJytNHR4+JEQ2SUwUNE5CSyU2FSU1U0sdFCAZOxM2NzofLTQWUklAMBtUHxIWJUpRLUA9LU4lNiUSNDJEPEMuSUMoPTcoEi5AUi8iPzIwH09TMjoeFSQgICZCNBwULSodFkEgQT8mQCAqNUQgJDMsLi00IS8jExUYHjBQSTtJGEc9PkAeJxorGiAbQis2KSQyJicgNDEcG0oqExgjOCQxNToeQhMWPSwxJhlDVBM9EzQZSzUwTy8hHRQhLyYnMTI3HzUoUisXJzwgQj4XGEUfEyUqRx9SFDoXKiY+MR4lI00oFhscGiYtTxgVFSI1Q08fE08mG0s4FlIePjUcJkUrJjseIjoSE01BJjMZIk0xUhlEKSIlJjAcRSAYFhlRGzcqU1QbJjUTHjExHBsgIiNMJy89MSYxIyY=",
          "dtype": "i1"
         },
         "xaxis": "x",
         "y": {
          "bdata": "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",
          "dtype": "f8"
         },
         "yaxis": "y"
        }
       ],
       "layout": {
        "legend": {
         "itemsizing": "constant",
         "title": {
          "text": "Has_Hypertension"
         },
         "tracegroupgap": 0
        },
        "template": {
         "data": {
          "bar": [
           {
            "error_x": {
             "color": "#2a3f5f"
            },
            "error_y": {
             "color": "#2a3f5f"
            },
            "marker": {
             "line": {
              "color": "#E5ECF6",
              "width": 0.5
             },
             "pattern": {
              "fillmode": "overlay",
              "size": 10,
              "solidity": 0.2
             }
            },
            "type": "bar"
           }
          ],
          "barpolar": [
           {
            "marker": {
             "line": {
              "color": "#E5ECF6",
              "width": 0.5
             },
             "pattern": {
              "fillmode": "overlay",
              "size": 10,
              "solidity": 0.2
             }
            },
            "type": "barpolar"
           }
          ],
          "carpet": [
           {
            "aaxis": {
             "endlinecolor": "#2a3f5f",
             "gridcolor": "white",
             "linecolor": "white",
             "minorgridcolor": "white",
             "startlinecolor": "#2a3f5f"
            },
            "baxis": {
             "endlinecolor": "#2a3f5f",
             "gridcolor": "white",
             "linecolor": "white",
             "minorgridcolor": "white",
             "startlinecolor": "#2a3f5f"
            },
            "type": "carpet"
           }
          ],
          "choropleth": [
           {
            "colorbar": {
             "outlinewidth": 0,
             "ticks": ""
            },
            "type": "choropleth"
           }
          ],
          "contour": [
           {
            "colorbar": {
             "outlinewidth": 0,
             "ticks": ""
            },
            "colorscale": [
             [
              0,
              "#0d0887"
             ],
             [
              0.1111111111111111,
              "#46039f"
             ],
             [
              0.2222222222222222,
              "#7201a8"
             ],
             [
              0.3333333333333333,
              "#9c179e"
             ],
             [
              0.4444444444444444,
              "#bd3786"
             ],
             [
              0.5555555555555556,
              "#d8576b"
             ],
             [
              0.6666666666666666,
              "#ed7953"
             ],
             [
              0.7777777777777778,
              "#fb9f3a"
             ],
             [
              0.8888888888888888,
              "#fdca26"
             ],
             [
              1,
              "#f0f921"
             ]
            ],
            "type": "contour"
           }
          ],
          "contourcarpet": [
           {
            "colorbar": {
             "outlinewidth": 0,
             "ticks": ""
            },
            "type": "contourcarpet"
           }
          ],
          "heatmap": [
           {
            "colorbar": {
             "outlinewidth": 0,
             "ticks": ""
            },
            "colorscale": [
             [
              0,
              "#0d0887"
             ],
             [
              0.1111111111111111,
              "#46039f"
             ],
             [
              0.2222222222222222,
              "#7201a8"
             ],
             [
              0.3333333333333333,
              "#9c179e"
             ],
             [
              0.4444444444444444,
              "#bd3786"
             ],
             [
              0.5555555555555556,
              "#d8576b"
             ],
             [
              0.6666666666666666,
              "#ed7953"
             ],
             [
              0.7777777777777778,
              "#fb9f3a"
             ],
             [
              0.8888888888888888,
              "#fdca26"
             ],
             [
              1,
              "#f0f921"
             ]
            ],
            "type": "heatmap"
           }
          ],
          "histogram": [
           {
            "marker": {
             "pattern": {
              "fillmode": "overlay",
              "size": 10,
              "solidity": 0.2
             }
            },
            "type": "histogram"
           }
          ],
          "histogram2d": [
           {
            "colorbar": {
             "outlinewidth": 0,
             "ticks": ""
            },
            "colorscale": [
             [
              0,
              "#0d0887"
             ],
             [
              0.1111111111111111,
              "#46039f"
             ],
             [
              0.2222222222222222,
              "#7201a8"
             ],
             [
              0.3333333333333333,
              "#9c179e"
             ],
             [
              0.4444444444444444,
              "#bd3786"
             ],
             [
              0.5555555555555556,
              "#d8576b"
             ],
             [
              0.6666666666666666,
              "#ed7953"
             ],
             [
              0.7777777777777778,
              "#fb9f3a"
             ],
             [
              0.8888888888888888,
              "#fdca26"
             ],
             [
              1,
              "#f0f921"
             ]
            ],
            "type": "histogram2d"
           }
          ],
          "histogram2dcontour": [
           {
            "colorbar": {
             "outlinewidth": 0,
             "ticks": ""
            },
            "colorscale": [
             [
              0,
              "#0d0887"
             ],
             [
              0.1111111111111111,
              "#46039f"
             ],
             [
              0.2222222222222222,
              "#7201a8"
             ],
             [
              0.3333333333333333,
              "#9c179e"
             ],
             [
              0.4444444444444444,
              "#bd3786"
             ],
             [
              0.5555555555555556,
              "#d8576b"
             ],
             [
              0.6666666666666666,
              "#ed7953"
             ],
             [
              0.7777777777777778,
              "#fb9f3a"
             ],
             [
              0.8888888888888888,
              "#fdca26"
             ],
             [
              1,
              "#f0f921"
             ]
            ],
            "type": "histogram2dcontour"
           }
          ],
          "mesh3d": [
           {
            "colorbar": {
             "outlinewidth": 0,
             "ticks": ""
            },
            "type": "mesh3d"
           }
          ],
          "parcoords": [
           {
            "line": {
             "colorbar": {
              "outlinewidth": 0,
              "ticks": ""
             }
            },
            "type": "parcoords"
           }
          ],
          "pie": [
           {
            "automargin": true,
            "type": "pie"
           }
          ],
          "scatter": [
           {
            "fillpattern": {
             "fillmode": "overlay",
             "size": 10,
             "solidity": 0.2
            },
            "type": "scatter"
           }
          ],
          "scatter3d": [
           {
            "line": {
             "colorbar": {
              "outlinewidth": 0,
              "ticks": ""
             }
            },
            "marker": {
             "colorbar": {
              "outlinewidth": 0,
              "ticks": ""
             }
            },
            "type": "scatter3d"
           }
          ],
          "scattercarpet": [
           {
            "marker": {
             "colorbar": {
              "outlinewidth": 0,
              "ticks": ""
             }
            },
            "type": "scattercarpet"
           }
          ],
          "scattergeo": [
           {
            "marker": {
             "colorbar": {
              "outlinewidth": 0,
              "ticks": ""
             }
            },
            "type": "scattergeo"
           }
          ],
          "scattergl": [
           {
            "marker": {
             "colorbar": {
              "outlinewidth": 0,
              "ticks": ""
             }
            },
            "type": "scattergl"
           }
          ],
          "scattermap": [
           {
            "marker": {
             "colorbar": {
              "outlinewidth": 0,
              "ticks": ""
             }
            },
            "type": "scattermap"
           }
          ],
          "scattermapbox": [
           {
            "marker": {
             "colorbar": {
              "outlinewidth": 0,
              "ticks": ""
             }
            },
            "type": "scattermapbox"
           }
          ],
          "scatterpolar": [
           {
            "marker": {
             "colorbar": {
              "outlinewidth": 0,
              "ticks": ""
             }
            },
            "type": "scatterpolar"
           }
          ],
          "scatterpolargl": [
           {
            "marker": {
             "colorbar": {
              "outlinewidth": 0,
              "ticks": ""
             }
            },
            "type": "scatterpolargl"
           }
          ],
          "scatterternary": [
           {
            "marker": {
             "colorbar": {
              "outlinewidth": 0,
              "ticks": ""
             }
            },
            "type": "scatterternary"
           }
          ],
          "surface": [
           {
            "colorbar": {
             "outlinewidth": 0,
             "ticks": ""
            },
            "colorscale": [
             [
              0,
              "#0d0887"
             ],
             [
              0.1111111111111111,
              "#46039f"
             ],
             [
              0.2222222222222222,
              "#7201a8"
             ],
             [
              0.3333333333333333,
              "#9c179e"
             ],
             [
              0.4444444444444444,
              "#bd3786"
             ],
             [
              0.5555555555555556,
              "#d8576b"
             ],
             [
              0.6666666666666666,
              "#ed7953"
             ],
             [
              0.7777777777777778,
              "#fb9f3a"
             ],
             [
              0.8888888888888888,
              "#fdca26"
             ],
             [
              1,
              "#f0f921"
             ]
            ],
            "type": "surface"
           }
          ],
          "table": [
           {
            "cells": {
             "fill": {
              "color": "#EBF0F8"
             },
             "line": {
              "color": "white"
             }
            },
            "header": {
             "fill": {
              "color": "#C8D4E3"
             },
             "line": {
              "color": "white"
             }
            },
            "type": "table"
           }
          ]
         },
         "layout": {
          "annotationdefaults": {
           "arrowcolor": "#2a3f5f",
           "arrowhead": 0,
           "arrowwidth": 1
          },
          "autotypenumbers": "strict",
          "coloraxis": {
           "colorbar": {
            "outlinewidth": 0,
            "ticks": ""
           }
          },
          "colorscale": {
           "diverging": [
            [
             0,
             "#8e0152"
            ],
            [
             0.1,
             "#c51b7d"
            ],
            [
             0.2,
             "#de77ae"
            ],
            [
             0.3,
             "#f1b6da"
            ],
            [
             0.4,
             "#fde0ef"
            ],
            [
             0.5,
             "#f7f7f7"
            ],
            [
             0.6,
             "#e6f5d0"
            ],
            [
             0.7,
             "#b8e186"
            ],
            [
             0.8,
             "#7fbc41"
            ],
            [
             0.9,
             "#4d9221"
            ],
            [
             1,
             "#276419"
            ]
           ],
           "sequential": [
            [
             0,
             "#0d0887"
            ],
            [
             0.1111111111111111,
             "#46039f"
            ],
            [
             0.2222222222222222,
             "#7201a8"
            ],
            [
             0.3333333333333333,
             "#9c179e"
            ],
            [
             0.4444444444444444,
             "#bd3786"
            ],
            [
             0.5555555555555556,
             "#d8576b"
            ],
            [
             0.6666666666666666,
             "#ed7953"
            ],
            [
             0.7777777777777778,
             "#fb9f3a"
            ],
            [
             0.8888888888888888,
             "#fdca26"
            ],
            [
             1,
             "#f0f921"
            ]
           ],
           "sequentialminus": [
            [
             0,
             "#0d0887"
            ],
            [
             0.1111111111111111,
             "#46039f"
            ],
            [
             0.2222222222222222,
             "#7201a8"
            ],
            [
             0.3333333333333333,
             "#9c179e"
            ],
            [
             0.4444444444444444,
             "#bd3786"
            ],
            [
             0.5555555555555556,
             "#d8576b"
            ],
            [
             0.6666666666666666,
             "#ed7953"
            ],
            [
             0.7777777777777778,
             "#fb9f3a"
            ],
            [
             0.8888888888888888,
             "#fdca26"
            ],
            [
             1,
             "#f0f921"
            ]
           ]
          },
          "colorway": [
           "#636efa",
           "#EF553B",
           "#00cc96",
           "#ab63fa",
           "#FFA15A",
           "#19d3f3",
           "#FF6692",
           "#B6E880",
           "#FF97FF",
           "#FECB52"
          ],
          "font": {
           "color": "#2a3f5f"
          },
          "geo": {
           "bgcolor": "white",
           "lakecolor": "white",
           "landcolor": "#E5ECF6",
           "showlakes": true,
           "showland": true,
           "subunitcolor": "white"
          },
          "hoverlabel": {
           "align": "left"
          },
          "hovermode": "closest",
          "mapbox": {
           "style": "light"
          },
          "paper_bgcolor": "white",
          "plot_bgcolor": "#E5ECF6",
          "polar": {
           "angularaxis": {
            "gridcolor": "white",
            "linecolor": "white",
            "ticks": ""
           },
           "bgcolor": "#E5ECF6",
           "radialaxis": {
            "gridcolor": "white",
            "linecolor": "white",
            "ticks": ""
           }
          },
          "scene": {
           "xaxis": {
            "backgroundcolor": "#E5ECF6",
            "gridcolor": "white",
            "gridwidth": 2,
            "linecolor": "white",
            "showbackground": true,
            "ticks": "",
            "zerolinecolor": "white"
           },
           "yaxis": {
            "backgroundcolor": "#E5ECF6",
            "gridcolor": "white",
            "gridwidth": 2,
            "linecolor": "white",
            "showbackground": true,
            "ticks": "",
            "zerolinecolor": "white"
           },
           "zaxis": {
            "backgroundcolor": "#E5ECF6",
            "gridcolor": "white",
            "gridwidth": 2,
            "linecolor": "white",
            "showbackground": true,
            "ticks": "",
            "zerolinecolor": "white"
           }
          },
          "shapedefaults": {
           "line": {
            "color": "#2a3f5f"
           }
          },
          "ternary": {
           "aaxis": {
            "gridcolor": "white",
            "linecolor": "white",
            "ticks": ""
           },
           "baxis": {
            "gridcolor": "white",
            "linecolor": "white",
            "ticks": ""
           },
           "bgcolor": "#E5ECF6",
           "caxis": {
            "gridcolor": "white",
            "linecolor": "white",
            "ticks": ""
           }
          },
          "title": {
           "x": 0.05
          },
          "xaxis": {
           "automargin": true,
           "gridcolor": "white",
           "linecolor": "white",
           "ticks": "",
           "title": {
            "standoff": 15
           },
           "zerolinecolor": "white",
           "zerolinewidth": 2
          },
          "yaxis": {
           "automargin": true,
           "gridcolor": "white",
           "linecolor": "white",
           "ticks": "",
           "title": {
            "standoff": 15
           },
           "zerolinecolor": "white",
           "zerolinewidth": 2
          }
         }
        },
        "title": {
         "text": "BMI vs Age Colored by Hypertension Status"
        },
        "xaxis": {
         "anchor": "y",
         "domain": [
          0,
          1
         ],
         "title": {
          "text": "Age"
         }
        },
        "yaxis": {
         "anchor": "x",
         "domain": [
          0,
          1
         ],
         "title": {
          "text": "BMI"
         }
        }
       }
      }
     },
     "metadata": {},
     "output_type": "display_data"
    }
   ],
   "source": [
    "import plotly.express as px\n",
    "\n",
    "fig = px.scatter(df, x=\"Age\", y=\"BMI\", color=\"Has_Hypertension\",\n",
    "                 title=\"BMI vs Age Colored by Hypertension Status\",\n",
    "                 size=\"Stress_Score\", hover_data=[\"Salt_Intake\", \"Sleep_Duration\"])\n",
    "fig.show()\n"
   ]
  },
  {
   "cell_type": "code",
   "execution_count": 35,
   "id": "aca35314",
   "metadata": {},
   "outputs": [
    {
     "data": {
      "image/png": "[encoded data removed]",
      "text/plain": [
       "<Figure size 1000x600 with 2 Axes>"
      ]
     },
     "metadata": {},
     "output_type": "display_data"
    }
   ],
   "source": [
    "import seaborn as sns\n",
    "import matplotlib.pyplot as plt\n",
    "\n",
    "plt.figure(figsize=(10,6))\n",
    "sns.heatmap(df.corr(numeric_only=True), annot=True, cmap=\"coolwarm\")\n",
    "plt.title(\"Correlation Heatmap of Health Metrics\")\n",
    "plt.tight_layout()\n",
    "plt.show()\n"
   ]
  },
  {
   "cell_type": "code",
   "execution_count": 36,
   "id": "db9b55f8",
   "metadata": {},
   "outputs": [
    {
     "data": {
      "image/png": "[encoded data removed]",
      "text/plain": [
       "<Figure size 800x500 with 1 Axes>"
      ]
     },
     "metadata": {},
     "output_type": "display_data"
    }
   ],
   "source": [
    "htn_family = df.groupby([\"Family_History\", \"Has_Hypertension\"]).size().unstack().fillna(0)\n",
    "htn_family.plot(kind=\"bar\", stacked=True, colormap=\"Set2\", figsize=(8,5))\n",
    "plt.title(\"Hypertension by Family History\")\n",
    "plt.ylabel(\"Count\")\n",
    "plt.xticks(rotation=0)\n",
    "plt.tight_layout()\n",
    "plt.show()\n"
   ]
  },
  {
   "cell_type": "code",
   "execution_count": 37,
   "id": "8c9eef39",
   "metadata": {},
   "outputs": [
    {
     "data": {
      "image/png": "[encoded data removed]",
      "text/plain": [
       "<Figure size 640x480 with 1 Axes>"
      ]
     },
     "metadata": {},
     "output_type": "display_data"
    }
   ],
   "source": [
    "sns.kdeplot(data=df, x=\"Sleep_Duration\", hue=\"Has_Hypertension\", fill=True, palette=\"Set1\")\n",
    "plt.title(\"Sleep Duration Distribution by Hypertension Status\")\n",
    "plt.xlabel(\"Sleep Duration (hours)\")\n",
    "plt.tight_layout()\n",
    "plt.show()\n"
   ]
  },
  {
   "cell_type": "code",
   "execution_count": 38,
   "id": "836d8fda",
   "metadata": {},
   "outputs": [
    {
     "data": {
      "image/png": "[encoded data removed]",
      "text/plain": [
       "<Figure size 640x480 with 1 Axes>"
      ]
     },
     "metadata": {},
     "output_type": "display_data"
    }
   ],
   "source": [
    "sns.boxplot(data=df, x=\"Has_Hypertension\", y=\"Salt_Intake\", palette=\"coolwarm\")\n",
    "plt.title(\"Salt Intake Distribution by Hypertension Status\")\n",
    "plt.tight_layout()\n",
    "plt.show()\n"
   ]
  },
  {
   "cell_type": "markdown",
   "id": "8bb3a408",
   "metadata": {},
   "source": [
    "# Machine Learning"
   ]
  },
  {
   "cell_type": "markdown",
   "id": "3ede10f4",
   "metadata": {},
   "source": [
    "XGB Classifier Model "
   ]
  },
  {
   "cell_type": "code",
   "execution_count": 39,
   "id": "242bd492",
   "metadata": {},
   "outputs": [],
   "source": [
    "from sklearn.preprocessing import LabelEncoder\n",
    "from sklearn.model_selection import train_test_split\n",
    "\n",
    "df_ml = df.copy()\n",
    "for col in [\"BP_History\", \"Medication\", \"Family_History\", \"Exercise_Level\", \"Smoking_Status\", \"Has_Hypertension\"]:\n",
    "    df_ml[col] = LabelEncoder().fit_transform(df_ml[col])\n",
    "\n",
    "X = df_ml.drop(columns=[\"Has_Hypertension\"])\n",
    "y = df_ml[\"Has_Hypertension\"]\n",
    "\n",
    "X_train, X_test, y_train, y_test = train_test_split(X, y, test_size=0.2, random_state=42)\n"
   ]
  },
  {
   "cell_type": "code",
   "execution_count": 40,
   "id": "29b8f27e",
   "metadata": {},
   "outputs": [
    {
     "name": "stdout",
     "output_type": "stream",
     "text": [
      "Accuracy: 0.9899244332493703\n",
      "              precision    recall  f1-score   support\n",
      "\n",
      "           0       0.99      0.99      0.99       192\n",
      "           1       0.99      0.99      0.99       205\n",
      "\n",
      "    accuracy                           0.99       397\n",
      "   macro avg       0.99      0.99      0.99       397\n",
      "weighted avg       0.99      0.99      0.99       397\n",
      "\n"
     ]
    }
   ],
   "source": [
    "import xgboost as xgb\n",
    "from sklearn.metrics import accuracy_score, classification_report\n",
    "\n",
    "model = xgb.XGBClassifier(use_label_encoder=False, eval_metric='logloss')\n",
    "model.fit(X_train, y_train)\n",
    "\n",
    "y_pred = model.predict(X_test)\n",
    "print(\"Accuracy:\", accuracy_score(y_test, y_pred))\n",
    "print(classification_report(y_test, y_pred))\n"
   ]
  },
  {
   "cell_type": "code",
   "execution_count": 41,
   "id": "70c4ef71",
   "metadata": {},
   "outputs": [
    {
     "data": {
      "image/png": "[encoded data removed]",
      "text/plain": [
       "<Figure size 640x480 with 1 Axes>"
      ]
     },
     "metadata": {},
     "output_type": "display_data"
    }
   ],
   "source": [
    "xgb.plot_importance(model, max_num_features=10)\n",
    "plt.title(\"Top Features Influencing Hypertension\")\n",
    "plt.tight_layout()\n",
    "plt.show()\n"
   ]
  },
  {
   "cell_type": "markdown",
   "id": "e6791dea",
   "metadata": {},
   "source": [
    "## Logistic Regression Model"
   ]
  },
  {
   "cell_type": "code",
   "execution_count": 43,
   "id": "20ad9bb8",
   "metadata": {},
   "outputs": [],
   "source": [
    "from sklearn.preprocessing import LabelEncoder\n",
    "from sklearn.model_selection import train_test_split\n",
    "\n",
    "df_log = df.copy()\n",
    "\n",
    "# Encode categorical variables\n",
    "for col in [\"BP_History\", \"Medication\", \"Family_History\", \"Exercise_Level\", \"Smoking_Status\", \"Has_Hypertension\"]:\n",
    "    df_log[col] = LabelEncoder().fit_transform(df_log[col])\n",
    "\n",
    "# Define features and target\n",
    "X = df_log.drop(columns=[\"Has_Hypertension\"])\n",
    "y = df_log[\"Has_Hypertension\"]\n",
    "\n",
    "# Split the data\n",
    "X_train, X_test, y_train, y_test = train_test_split(X, y, test_size=0.2, random_state=42)\n"
   ]
  },
  {
   "cell_type": "code",
   "execution_count": 44,
   "id": "a887ad67",
   "metadata": {},
   "outputs": [],
   "source": [
    "from sklearn.linear_model import LogisticRegression\n",
    "from sklearn.metrics import accuracy_score, confusion_matrix, classification_report\n",
    "\n",
    "model = LogisticRegression(max_iter=1000)\n",
    "model.fit(X_train, y_train)\n",
    "\n",
    "y_pred = model.predict(X_test)\n"
   ]
  },
  {
   "cell_type": "code",
   "execution_count": 45,
   "id": "81767406",
   "metadata": {},
   "outputs": [
    {
     "name": "stdout",
     "output_type": "stream",
     "text": [
      "Accuracy: 0.8136020151133502\n",
      "Confusion Matrix:\n",
      " [[152  40]\n",
      " [ 34 171]]\n",
      "Classification Report:\n",
      "               precision    recall  f1-score   support\n",
      "\n",
      "           0       0.82      0.79      0.80       192\n",
      "           1       0.81      0.83      0.82       205\n",
      "\n",
      "    accuracy                           0.81       397\n",
      "   macro avg       0.81      0.81      0.81       397\n",
      "weighted avg       0.81      0.81      0.81       397\n",
      "\n"
     ]
    }
   ],
   "source": [
    "print(\"Accuracy:\", accuracy_score(y_test, y_pred))\n",
    "print(\"Confusion Matrix:\\n\", confusion_matrix(y_test, y_pred))\n",
    "print(\"Classification Report:\\n\", classification_report(y_test, y_pred))\n"
   ]
  },
  {
   "cell_type": "code",
   "execution_count": 46,
   "id": "11da1632",
   "metadata": {},
   "outputs": [
    {
     "name": "stdout",
     "output_type": "stream",
     "text": [
      "          Feature  Coefficient\n",
      "7  Family_History     2.360775\n",
      "9  Smoking_Status     2.334968\n",
      "3      BP_History    -2.252551\n",
      "4  Sleep_Duration    -0.366114\n",
      "2    Stress_Score     0.268880\n",
      "1     Salt_Intake     0.241947\n",
      "5             BMI     0.123593\n",
      "8  Exercise_Level    -0.096464\n",
      "0             Age     0.049350\n",
      "6      Medication     0.005527\n"
     ]
    }
   ],
   "source": [
    "import pandas as pd\n",
    "coefficients = pd.DataFrame({\n",
    "    \"Feature\": X.columns,\n",
    "    \"Coefficient\": model.coef_[0]\n",
    "}).sort_values(by=\"Coefficient\", key=abs, ascending=False)\n",
    "\n",
    "print(coefficients)\n"
   ]
  }
 ],
 "metadata": {
  "kernelspec": {
   "display_name": "Python 3",
   "language": "python",
   "name": "python3"
  },
  "language_info": {
   "codemirror_mode": {
    "name": "ipython",
    "version": 3
   },
   "file_extension": ".py",
   "mimetype": "text/x-python",
   "name": "python",
   "nbconvert_exporter": "python",
   "pygments_lexer": "ipython3",
   "version": "3.12.4"
  }
 },
 "nbformat": 4,
 "nbformat_minor": 5
}
